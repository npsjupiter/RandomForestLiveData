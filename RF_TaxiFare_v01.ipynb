{
 "cells": [
  {
   "cell_type": "code",
   "execution_count": 1,
   "id": "40a6f6ef",
   "metadata": {},
   "outputs": [],
   "source": [
    "import os\n",
    "import pandas as pd\n",
    "import numpy as np\n",
    "import matplotlib.pyplot as plt\n",
    "import seaborn as sns"
   ]
  },
  {
   "cell_type": "code",
   "execution_count": 2,
   "id": "4414a7b3",
   "metadata": {},
   "outputs": [],
   "source": [
    "os.chdir(r\"D:\\Training\\Imarticus\\PGA\\PGA25\\ML\\Ensemble\")"
   ]
  },
  {
   "cell_type": "code",
   "execution_count": 3,
   "id": "120da928",
   "metadata": {},
   "outputs": [],
   "source": [
    "taxi_data=pd.read_parquet(\"yellow_tripdata_2022-06.parquet\") "
   ]
  },
  {
   "cell_type": "code",
   "execution_count": 4,
   "id": "85741e96",
   "metadata": {},
   "outputs": [
    {
     "data": {
      "text/plain": [
       "(3558124, 19)"
      ]
     },
     "execution_count": 4,
     "metadata": {},
     "output_type": "execute_result"
    }
   ],
   "source": [
    "taxi_data.shape"
   ]
  },
  {
   "cell_type": "code",
   "execution_count": 5,
   "id": "cfcd89b7",
   "metadata": {},
   "outputs": [],
   "source": [
    "from sklearn.model_selection import train_test_split\n",
    "taxi,_=train_test_split(taxi_data, test_size=.98,random_state=0)"
   ]
  },
  {
   "cell_type": "code",
   "execution_count": 6,
   "id": "14821eb1",
   "metadata": {},
   "outputs": [
    {
     "data": {
      "text/plain": [
       "(71162, 19)"
      ]
     },
     "execution_count": 6,
     "metadata": {},
     "output_type": "execute_result"
    }
   ],
   "source": [
    "taxi.shape"
   ]
  },
  {
   "cell_type": "code",
   "execution_count": 7,
   "id": "4ac71f66",
   "metadata": {},
   "outputs": [
    {
     "data": {
      "text/html": [
       "<div>\n",
       "<style scoped>\n",
       "    .dataframe tbody tr th:only-of-type {\n",
       "        vertical-align: middle;\n",
       "    }\n",
       "\n",
       "    .dataframe tbody tr th {\n",
       "        vertical-align: top;\n",
       "    }\n",
       "\n",
       "    .dataframe thead th {\n",
       "        text-align: right;\n",
       "    }\n",
       "</style>\n",
       "<table border=\"1\" class=\"dataframe\">\n",
       "  <thead>\n",
       "    <tr style=\"text-align: right;\">\n",
       "      <th></th>\n",
       "      <th>VendorID</th>\n",
       "      <th>tpep_pickup_datetime</th>\n",
       "      <th>tpep_dropoff_datetime</th>\n",
       "      <th>passenger_count</th>\n",
       "      <th>trip_distance</th>\n",
       "      <th>RatecodeID</th>\n",
       "      <th>store_and_fwd_flag</th>\n",
       "      <th>PULocationID</th>\n",
       "      <th>DOLocationID</th>\n",
       "      <th>payment_type</th>\n",
       "      <th>fare_amount</th>\n",
       "      <th>extra</th>\n",
       "      <th>mta_tax</th>\n",
       "      <th>tip_amount</th>\n",
       "      <th>tolls_amount</th>\n",
       "      <th>improvement_surcharge</th>\n",
       "      <th>total_amount</th>\n",
       "      <th>congestion_surcharge</th>\n",
       "      <th>airport_fee</th>\n",
       "    </tr>\n",
       "  </thead>\n",
       "  <tbody>\n",
       "    <tr>\n",
       "      <th>11293</th>\n",
       "      <td>2</td>\n",
       "      <td>2022-06-01 08:48:20</td>\n",
       "      <td>2022-06-01 09:00:30</td>\n",
       "      <td>1.0</td>\n",
       "      <td>1.75</td>\n",
       "      <td>1.0</td>\n",
       "      <td>N</td>\n",
       "      <td>143</td>\n",
       "      <td>48</td>\n",
       "      <td>1</td>\n",
       "      <td>9.5</td>\n",
       "      <td>0.0</td>\n",
       "      <td>0.5</td>\n",
       "      <td>2.00</td>\n",
       "      <td>0.0</td>\n",
       "      <td>0.3</td>\n",
       "      <td>14.80</td>\n",
       "      <td>2.5</td>\n",
       "      <td>0.0</td>\n",
       "    </tr>\n",
       "    <tr>\n",
       "      <th>3241804</th>\n",
       "      <td>2</td>\n",
       "      <td>2022-06-29 12:30:59</td>\n",
       "      <td>2022-06-29 13:20:10</td>\n",
       "      <td>1.0</td>\n",
       "      <td>9.16</td>\n",
       "      <td>1.0</td>\n",
       "      <td>N</td>\n",
       "      <td>143</td>\n",
       "      <td>95</td>\n",
       "      <td>2</td>\n",
       "      <td>36.0</td>\n",
       "      <td>0.0</td>\n",
       "      <td>0.5</td>\n",
       "      <td>0.00</td>\n",
       "      <td>0.0</td>\n",
       "      <td>0.3</td>\n",
       "      <td>39.30</td>\n",
       "      <td>2.5</td>\n",
       "      <td>0.0</td>\n",
       "    </tr>\n",
       "    <tr>\n",
       "      <th>2122208</th>\n",
       "      <td>1</td>\n",
       "      <td>2022-06-19 01:03:50</td>\n",
       "      <td>2022-06-19 01:27:44</td>\n",
       "      <td>1.0</td>\n",
       "      <td>5.00</td>\n",
       "      <td>1.0</td>\n",
       "      <td>N</td>\n",
       "      <td>249</td>\n",
       "      <td>80</td>\n",
       "      <td>1</td>\n",
       "      <td>20.0</td>\n",
       "      <td>3.0</td>\n",
       "      <td>0.5</td>\n",
       "      <td>2.00</td>\n",
       "      <td>0.0</td>\n",
       "      <td>0.3</td>\n",
       "      <td>25.80</td>\n",
       "      <td>2.5</td>\n",
       "      <td>0.0</td>\n",
       "    </tr>\n",
       "    <tr>\n",
       "      <th>645015</th>\n",
       "      <td>2</td>\n",
       "      <td>2022-06-06 17:16:57</td>\n",
       "      <td>2022-06-06 17:35:51</td>\n",
       "      <td>1.0</td>\n",
       "      <td>3.02</td>\n",
       "      <td>1.0</td>\n",
       "      <td>N</td>\n",
       "      <td>230</td>\n",
       "      <td>113</td>\n",
       "      <td>1</td>\n",
       "      <td>13.5</td>\n",
       "      <td>1.0</td>\n",
       "      <td>0.5</td>\n",
       "      <td>1.78</td>\n",
       "      <td>0.0</td>\n",
       "      <td>0.3</td>\n",
       "      <td>19.58</td>\n",
       "      <td>2.5</td>\n",
       "      <td>0.0</td>\n",
       "    </tr>\n",
       "    <tr>\n",
       "      <th>1752107</th>\n",
       "      <td>2</td>\n",
       "      <td>2022-06-15 22:09:34</td>\n",
       "      <td>2022-06-15 22:28:03</td>\n",
       "      <td>1.0</td>\n",
       "      <td>3.53</td>\n",
       "      <td>1.0</td>\n",
       "      <td>N</td>\n",
       "      <td>90</td>\n",
       "      <td>237</td>\n",
       "      <td>1</td>\n",
       "      <td>14.5</td>\n",
       "      <td>0.5</td>\n",
       "      <td>0.5</td>\n",
       "      <td>2.74</td>\n",
       "      <td>0.0</td>\n",
       "      <td>0.3</td>\n",
       "      <td>21.04</td>\n",
       "      <td>2.5</td>\n",
       "      <td>0.0</td>\n",
       "    </tr>\n",
       "  </tbody>\n",
       "</table>\n",
       "</div>"
      ],
      "text/plain": [
       "         VendorID tpep_pickup_datetime tpep_dropoff_datetime  passenger_count  \\\n",
       "11293           2  2022-06-01 08:48:20   2022-06-01 09:00:30              1.0   \n",
       "3241804         2  2022-06-29 12:30:59   2022-06-29 13:20:10              1.0   \n",
       "2122208         1  2022-06-19 01:03:50   2022-06-19 01:27:44              1.0   \n",
       "645015          2  2022-06-06 17:16:57   2022-06-06 17:35:51              1.0   \n",
       "1752107         2  2022-06-15 22:09:34   2022-06-15 22:28:03              1.0   \n",
       "\n",
       "         trip_distance  RatecodeID store_and_fwd_flag  PULocationID  \\\n",
       "11293             1.75         1.0                  N           143   \n",
       "3241804           9.16         1.0                  N           143   \n",
       "2122208           5.00         1.0                  N           249   \n",
       "645015            3.02         1.0                  N           230   \n",
       "1752107           3.53         1.0                  N            90   \n",
       "\n",
       "         DOLocationID  payment_type  fare_amount  extra  mta_tax  tip_amount  \\\n",
       "11293              48             1          9.5    0.0      0.5        2.00   \n",
       "3241804            95             2         36.0    0.0      0.5        0.00   \n",
       "2122208            80             1         20.0    3.0      0.5        2.00   \n",
       "645015            113             1         13.5    1.0      0.5        1.78   \n",
       "1752107           237             1         14.5    0.5      0.5        2.74   \n",
       "\n",
       "         tolls_amount  improvement_surcharge  total_amount  \\\n",
       "11293             0.0                    0.3         14.80   \n",
       "3241804           0.0                    0.3         39.30   \n",
       "2122208           0.0                    0.3         25.80   \n",
       "645015            0.0                    0.3         19.58   \n",
       "1752107           0.0                    0.3         21.04   \n",
       "\n",
       "         congestion_surcharge  airport_fee  \n",
       "11293                     2.5          0.0  \n",
       "3241804                   2.5          0.0  \n",
       "2122208                   2.5          0.0  \n",
       "645015                    2.5          0.0  \n",
       "1752107                   2.5          0.0  "
      ]
     },
     "execution_count": 7,
     "metadata": {},
     "output_type": "execute_result"
    }
   ],
   "source": [
    "taxi.head() "
   ]
  },
  {
   "cell_type": "markdown",
   "id": "7d8749f5",
   "metadata": {},
   "source": [
    "### EDA"
   ]
  },
  {
   "cell_type": "code",
   "execution_count": 8,
   "id": "e83124ae",
   "metadata": {},
   "outputs": [
    {
     "data": {
      "text/plain": [
       "2    50189\n",
       "1    20830\n",
       "6      143\n",
       "Name: VendorID, dtype: int64"
      ]
     },
     "execution_count": 8,
     "metadata": {},
     "output_type": "execute_result"
    }
   ],
   "source": [
    "taxi[\"VendorID\"].value_counts()"
   ]
  },
  {
   "cell_type": "code",
   "execution_count": 9,
   "id": "ae94720a",
   "metadata": {},
   "outputs": [],
   "source": [
    "def univariate_cat(data, x):\n",
    "    missing=data[x].isnull().sum()\n",
    "    unique_cnt=data[x].nunique()\n",
    "    unique_cat=list(data[x].unique())\n",
    "    f1=pd.DataFrame(data[x].value_counts(dropna=False))\n",
    "    f1.rename(columns={x:\"Count\"}, inplace=True)\n",
    "    f2=pd.DataFrame(data[x].value_counts(normalize=True))\n",
    "    f2.rename(columns={x:\"percentage\"}, inplace=True)\n",
    "    f2[\"percentage\"]=(f2[\"percentage\"]*100).round(2).astype(str)+\"%\"\n",
    "    ff=pd.concat([f1, f2], axis=1)\n",
    "    print(f\"Total missing values : {missing}\\n\")\n",
    "    print(f\"Total count of unique categories: {unique_cnt}\\n\")\n",
    "    print(f\"Unique categories :\\n{unique_cat}\")\n",
    "    print(f\"Value count and %\\n\", ff)\n",
    "    sns.countplot(data=data, x=x)\n",
    "    plt.show()"
   ]
  },
  {
   "cell_type": "code",
   "execution_count": 10,
   "id": "2df0a8b0",
   "metadata": {},
   "outputs": [
    {
     "name": "stdout",
     "output_type": "stream",
     "text": [
      "Total missing values : 0\n",
      "\n",
      "Total count of unique categories: 3\n",
      "\n",
      "Unique categories :\n",
      "[2, 1, 6]\n",
      "Value count and %\n",
      "    Count percentage\n",
      "2  50189     70.53%\n",
      "1  20830     29.27%\n",
      "6    143       0.2%\n"
     ]
    },
    {
     "data": {
      "image/png": "[encoded data removed]",
      "text/plain": [
       "<Figure size 432x288 with 1 Axes>"
      ]
     },
     "metadata": {
      "needs_background": "light"
     },
     "output_type": "display_data"
    }
   ],
   "source": [
    "univariate_cat(data=taxi, x=\"VendorID\")"
   ]
  },
  {
   "cell_type": "code",
   "execution_count": 11,
   "id": "989b81ba",
   "metadata": {},
   "outputs": [
    {
     "data": {
      "text/plain": [
       "2         50189\n",
       "1         20830\n",
       "Others      143\n",
       "Name: VendorID, dtype: int64"
      ]
     },
     "execution_count": 11,
     "metadata": {},
     "output_type": "execute_result"
    }
   ],
   "source": [
    "taxi[\"VendorID\"]=taxi[\"VendorID\"].replace([6,5] , \"Others\")\n",
    "taxi[\"VendorID\"].value_counts()"
   ]
  },
  {
   "cell_type": "code",
   "execution_count": 12,
   "id": "d81b1a6a",
   "metadata": {},
   "outputs": [
    {
     "data": {
      "text/plain": [
       "VendorID              object\n",
       "store_and_fwd_flag    object\n",
       "dtype: object"
      ]
     },
     "execution_count": 12,
     "metadata": {},
     "output_type": "execute_result"
    }
   ],
   "source": [
    "taxi.dtypes[taxi.dtypes==\"object\"]"
   ]
  },
  {
   "cell_type": "code",
   "execution_count": 13,
   "id": "23e20293",
   "metadata": {},
   "outputs": [
    {
     "name": "stdout",
     "output_type": "stream",
     "text": [
      "Total missing values : 2660\n",
      "\n",
      "Total count of unique categories: 2\n",
      "\n",
      "Unique categories :\n",
      "['N', None, 'Y']\n",
      "Value count and %\n",
      "       Count percentage\n",
      "N     67674     98.79%\n",
      "None   2660        NaN\n",
      "Y       828      1.21%\n"
     ]
    },
    {
     "data": {
      "image/png": "[encoded data removed]",
      "text/plain": [
       "<Figure size 432x288 with 1 Axes>"
      ]
     },
     "metadata": {
      "needs_background": "light"
     },
     "output_type": "display_data"
    }
   ],
   "source": [
    "univariate_cat(data=taxi, x=\"store_and_fwd_flag\")"
   ]
  },
  {
   "cell_type": "code",
   "execution_count": 14,
   "id": "b1b6770b",
   "metadata": {},
   "outputs": [],
   "source": [
    "taxi[\"store_and_fwd_flag\"]=taxi[\"store_and_fwd_flag\"].replace(np.nan, \"other\")"
   ]
  },
  {
   "cell_type": "code",
   "execution_count": 15,
   "id": "7576fc41",
   "metadata": {},
   "outputs": [
    {
     "data": {
      "text/plain": [
       "0"
      ]
     },
     "execution_count": 15,
     "metadata": {},
     "output_type": "execute_result"
    }
   ],
   "source": [
    "taxi[\"store_and_fwd_flag\"].isnull().sum()"
   ]
  },
  {
   "cell_type": "code",
   "execution_count": 16,
   "id": "a3907db6",
   "metadata": {},
   "outputs": [
    {
     "data": {
      "text/plain": [
       "1.0     64553\n",
       "2.0      2826\n",
       "NaN      2660\n",
       "5.0       612\n",
       "3.0       217\n",
       "99.0      206\n",
       "4.0        88\n",
       "Name: RatecodeID, dtype: int64"
      ]
     },
     "execution_count": 16,
     "metadata": {},
     "output_type": "execute_result"
    }
   ],
   "source": [
    "taxi[\"RatecodeID\"].value_counts(dropna=False)"
   ]
  },
  {
   "cell_type": "code",
   "execution_count": 17,
   "id": "4087bbb3",
   "metadata": {},
   "outputs": [],
   "source": [
    "taxi[\"RatecodeID\"]=taxi[\"RatecodeID\"].map({1:\"Standard_rate\",\n",
    "                                          2:\"JFK\",\n",
    "                                          3:\"Newark\",\n",
    "                                          4:\"Nassau_or_Westchester\",\n",
    "                                          5:\"Negotiated_fare\",\n",
    "                                          6:\"Group_ride\",\n",
    "                                          99:\"other\"})\n"
   ]
  },
  {
   "cell_type": "code",
   "execution_count": 18,
   "id": "05717f02",
   "metadata": {},
   "outputs": [],
   "source": [
    "# 1= Standard rate\n",
    "# 2=JFK\n",
    "# 3=Newark\n",
    "# 4=Nassau or Westchester\n",
    "# 5=Negotiated fare\n",
    "# 6=Group ride"
   ]
  },
  {
   "cell_type": "code",
   "execution_count": 19,
   "id": "94539e08",
   "metadata": {},
   "outputs": [
    {
     "name": "stdout",
     "output_type": "stream",
     "text": [
      "Total missing values : 2660\n",
      "\n",
      "Total count of unique categories: 6\n",
      "\n",
      "Unique categories :\n",
      "['Standard_rate', nan, 'Negotiated_fare', 'JFK', 'Newark', 'Nassau_or_Westchester', 'other']\n",
      "Value count and %\n",
      "                        Count percentage\n",
      "Standard_rate          64553     94.24%\n",
      "JFK                     2826      4.13%\n",
      "NaN                     2660        NaN\n",
      "Negotiated_fare          612      0.89%\n",
      "Newark                   217      0.32%\n",
      "other                    206       0.3%\n",
      "Nassau_or_Westchester     88      0.13%\n"
     ]
    },
    {
     "data": {
      "image/png": "[encoded data removed]",
      "text/plain": [
       "<Figure size 432x288 with 1 Axes>"
      ]
     },
     "metadata": {
      "needs_background": "light"
     },
     "output_type": "display_data"
    }
   ],
   "source": [
    "univariate_cat(data=taxi, x=\"RatecodeID\")"
   ]
  },
  {
   "cell_type": "code",
   "execution_count": 20,
   "id": "93e4ded1",
   "metadata": {},
   "outputs": [],
   "source": [
    "taxi[\"RatecodeID\"]=taxi[\"RatecodeID\"].replace(np.nan, \"other\")"
   ]
  },
  {
   "cell_type": "code",
   "execution_count": 21,
   "id": "06053995",
   "metadata": {},
   "outputs": [
    {
     "data": {
      "text/plain": [
       "Standard_rate            64553\n",
       "other                     2866\n",
       "JFK                       2826\n",
       "Negotiated_fare            612\n",
       "Newark                     217\n",
       "Nassau_or_Westchester       88\n",
       "Name: RatecodeID, dtype: int64"
      ]
     },
     "execution_count": 21,
     "metadata": {},
     "output_type": "execute_result"
    }
   ],
   "source": [
    "taxi[\"RatecodeID\"].value_counts(dropna=False)"
   ]
  },
  {
   "cell_type": "code",
   "execution_count": 22,
   "id": "63b200ec",
   "metadata": {},
   "outputs": [
    {
     "name": "stdout",
     "output_type": "stream",
     "text": [
      "Total missing values : 0\n",
      "\n",
      "Total count of unique categories: 5\n",
      "\n",
      "Unique categories :\n",
      "[1, 2, 0, 4, 3]\n",
      "Value count and %\n",
      "    Count percentage\n",
      "1  53921     75.77%\n",
      "2  13873     19.49%\n",
      "0   2660      3.74%\n",
      "3    363      0.51%\n",
      "4    345      0.48%\n"
     ]
    },
    {
     "data": {
      "image/png": "[encoded data removed]",
      "text/plain": [
       "<Figure size 432x288 with 1 Axes>"
      ]
     },
     "metadata": {
      "needs_background": "light"
     },
     "output_type": "display_data"
    }
   ],
   "source": [
    "univariate_cat(data=taxi, x=\"payment_type\")"
   ]
  },
  {
   "cell_type": "code",
   "execution_count": 23,
   "id": "2d63c1b2",
   "metadata": {},
   "outputs": [],
   "source": [
    "taxi[\"payment_type\"]=taxi[\"payment_type\"].map({1:\"Creidt_card\", 2:\"Cash\",\n",
    "                                               3:\"No_charge\",4:\"Dispute\",\n",
    "                                              0:\"Unkown\"})"
   ]
  },
  {
   "cell_type": "code",
   "execution_count": 24,
   "id": "71bfdc9c",
   "metadata": {},
   "outputs": [
    {
     "data": {
      "text/plain": [
       "Creidt_card    53921\n",
       "Cash           13873\n",
       "Unkown          2660\n",
       "No_charge        363\n",
       "Dispute          345\n",
       "Name: payment_type, dtype: int64"
      ]
     },
     "execution_count": 24,
     "metadata": {},
     "output_type": "execute_result"
    }
   ],
   "source": [
    "# 1= Credit card\n",
    "# 2= Cash\n",
    "# 3= No charge\n",
    "# 4= Dispute\n",
    "# 5, 0= Unknown\n",
    "# 6= Voided trip\n",
    "taxi[\"payment_type\"].value_counts(dropna=False)"
   ]
  },
  {
   "cell_type": "code",
   "execution_count": 25,
   "id": "06c04e46",
   "metadata": {},
   "outputs": [
    {
     "data": {
      "text/html": [
       "<div>\n",
       "<style scoped>\n",
       "    .dataframe tbody tr th:only-of-type {\n",
       "        vertical-align: middle;\n",
       "    }\n",
       "\n",
       "    .dataframe tbody tr th {\n",
       "        vertical-align: top;\n",
       "    }\n",
       "\n",
       "    .dataframe thead th {\n",
       "        text-align: right;\n",
       "    }\n",
       "</style>\n",
       "<table border=\"1\" class=\"dataframe\">\n",
       "  <thead>\n",
       "    <tr style=\"text-align: right;\">\n",
       "      <th></th>\n",
       "      <th>VendorID</th>\n",
       "      <th>tpep_pickup_datetime</th>\n",
       "      <th>tpep_dropoff_datetime</th>\n",
       "      <th>passenger_count</th>\n",
       "      <th>trip_distance</th>\n",
       "      <th>RatecodeID</th>\n",
       "      <th>store_and_fwd_flag</th>\n",
       "      <th>PULocationID</th>\n",
       "      <th>DOLocationID</th>\n",
       "      <th>payment_type</th>\n",
       "      <th>fare_amount</th>\n",
       "      <th>extra</th>\n",
       "      <th>mta_tax</th>\n",
       "      <th>tip_amount</th>\n",
       "      <th>tolls_amount</th>\n",
       "      <th>improvement_surcharge</th>\n",
       "      <th>total_amount</th>\n",
       "      <th>congestion_surcharge</th>\n",
       "      <th>airport_fee</th>\n",
       "    </tr>\n",
       "  </thead>\n",
       "  <tbody>\n",
       "    <tr>\n",
       "      <th>11293</th>\n",
       "      <td>2</td>\n",
       "      <td>2022-06-01 08:48:20</td>\n",
       "      <td>2022-06-01 09:00:30</td>\n",
       "      <td>1.0</td>\n",
       "      <td>1.75</td>\n",
       "      <td>Standard_rate</td>\n",
       "      <td>N</td>\n",
       "      <td>143</td>\n",
       "      <td>48</td>\n",
       "      <td>Creidt_card</td>\n",
       "      <td>9.5</td>\n",
       "      <td>0.0</td>\n",
       "      <td>0.5</td>\n",
       "      <td>2.00</td>\n",
       "      <td>0.0</td>\n",
       "      <td>0.3</td>\n",
       "      <td>14.80</td>\n",
       "      <td>2.5</td>\n",
       "      <td>0.0</td>\n",
       "    </tr>\n",
       "    <tr>\n",
       "      <th>3241804</th>\n",
       "      <td>2</td>\n",
       "      <td>2022-06-29 12:30:59</td>\n",
       "      <td>2022-06-29 13:20:10</td>\n",
       "      <td>1.0</td>\n",
       "      <td>9.16</td>\n",
       "      <td>Standard_rate</td>\n",
       "      <td>N</td>\n",
       "      <td>143</td>\n",
       "      <td>95</td>\n",
       "      <td>Cash</td>\n",
       "      <td>36.0</td>\n",
       "      <td>0.0</td>\n",
       "      <td>0.5</td>\n",
       "      <td>0.00</td>\n",
       "      <td>0.0</td>\n",
       "      <td>0.3</td>\n",
       "      <td>39.30</td>\n",
       "      <td>2.5</td>\n",
       "      <td>0.0</td>\n",
       "    </tr>\n",
       "    <tr>\n",
       "      <th>2122208</th>\n",
       "      <td>1</td>\n",
       "      <td>2022-06-19 01:03:50</td>\n",
       "      <td>2022-06-19 01:27:44</td>\n",
       "      <td>1.0</td>\n",
       "      <td>5.00</td>\n",
       "      <td>Standard_rate</td>\n",
       "      <td>N</td>\n",
       "      <td>249</td>\n",
       "      <td>80</td>\n",
       "      <td>Creidt_card</td>\n",
       "      <td>20.0</td>\n",
       "      <td>3.0</td>\n",
       "      <td>0.5</td>\n",
       "      <td>2.00</td>\n",
       "      <td>0.0</td>\n",
       "      <td>0.3</td>\n",
       "      <td>25.80</td>\n",
       "      <td>2.5</td>\n",
       "      <td>0.0</td>\n",
       "    </tr>\n",
       "    <tr>\n",
       "      <th>645015</th>\n",
       "      <td>2</td>\n",
       "      <td>2022-06-06 17:16:57</td>\n",
       "      <td>2022-06-06 17:35:51</td>\n",
       "      <td>1.0</td>\n",
       "      <td>3.02</td>\n",
       "      <td>Standard_rate</td>\n",
       "      <td>N</td>\n",
       "      <td>230</td>\n",
       "      <td>113</td>\n",
       "      <td>Creidt_card</td>\n",
       "      <td>13.5</td>\n",
       "      <td>1.0</td>\n",
       "      <td>0.5</td>\n",
       "      <td>1.78</td>\n",
       "      <td>0.0</td>\n",
       "      <td>0.3</td>\n",
       "      <td>19.58</td>\n",
       "      <td>2.5</td>\n",
       "      <td>0.0</td>\n",
       "    </tr>\n",
       "    <tr>\n",
       "      <th>1752107</th>\n",
       "      <td>2</td>\n",
       "      <td>2022-06-15 22:09:34</td>\n",
       "      <td>2022-06-15 22:28:03</td>\n",
       "      <td>1.0</td>\n",
       "      <td>3.53</td>\n",
       "      <td>Standard_rate</td>\n",
       "      <td>N</td>\n",
       "      <td>90</td>\n",
       "      <td>237</td>\n",
       "      <td>Creidt_card</td>\n",
       "      <td>14.5</td>\n",
       "      <td>0.5</td>\n",
       "      <td>0.5</td>\n",
       "      <td>2.74</td>\n",
       "      <td>0.0</td>\n",
       "      <td>0.3</td>\n",
       "      <td>21.04</td>\n",
       "      <td>2.5</td>\n",
       "      <td>0.0</td>\n",
       "    </tr>\n",
       "  </tbody>\n",
       "</table>\n",
       "</div>"
      ],
      "text/plain": [
       "        VendorID tpep_pickup_datetime tpep_dropoff_datetime  passenger_count  \\\n",
       "11293          2  2022-06-01 08:48:20   2022-06-01 09:00:30              1.0   \n",
       "3241804        2  2022-06-29 12:30:59   2022-06-29 13:20:10              1.0   \n",
       "2122208        1  2022-06-19 01:03:50   2022-06-19 01:27:44              1.0   \n",
       "645015         2  2022-06-06 17:16:57   2022-06-06 17:35:51              1.0   \n",
       "1752107        2  2022-06-15 22:09:34   2022-06-15 22:28:03              1.0   \n",
       "\n",
       "         trip_distance     RatecodeID store_and_fwd_flag  PULocationID  \\\n",
       "11293             1.75  Standard_rate                  N           143   \n",
       "3241804           9.16  Standard_rate                  N           143   \n",
       "2122208           5.00  Standard_rate                  N           249   \n",
       "645015            3.02  Standard_rate                  N           230   \n",
       "1752107           3.53  Standard_rate                  N            90   \n",
       "\n",
       "         DOLocationID payment_type  fare_amount  extra  mta_tax  tip_amount  \\\n",
       "11293              48  Creidt_card          9.5    0.0      0.5        2.00   \n",
       "3241804            95         Cash         36.0    0.0      0.5        0.00   \n",
       "2122208            80  Creidt_card         20.0    3.0      0.5        2.00   \n",
       "645015            113  Creidt_card         13.5    1.0      0.5        1.78   \n",
       "1752107           237  Creidt_card         14.5    0.5      0.5        2.74   \n",
       "\n",
       "         tolls_amount  improvement_surcharge  total_amount  \\\n",
       "11293             0.0                    0.3         14.80   \n",
       "3241804           0.0                    0.3         39.30   \n",
       "2122208           0.0                    0.3         25.80   \n",
       "645015            0.0                    0.3         19.58   \n",
       "1752107           0.0                    0.3         21.04   \n",
       "\n",
       "         congestion_surcharge  airport_fee  \n",
       "11293                     2.5          0.0  \n",
       "3241804                   2.5          0.0  \n",
       "2122208                   2.5          0.0  \n",
       "645015                    2.5          0.0  \n",
       "1752107                   2.5          0.0  "
      ]
     },
     "execution_count": 25,
     "metadata": {},
     "output_type": "execute_result"
    }
   ],
   "source": [
    "taxi.head()"
   ]
  },
  {
   "cell_type": "code",
   "execution_count": 26,
   "id": "6259b416",
   "metadata": {},
   "outputs": [],
   "source": [
    " def univariate_num(data,x):\n",
    "    missing=data[x].isnull().sum()\n",
    "    min1=round(data[x].min(), 2)\n",
    "    max1=round(data[x].max(), 2)\n",
    "    mean=round(data[x].mean(), 2)\n",
    "    var=round(data[x].var(), 2)\n",
    "    std=round(data[x].std(),2)\n",
    "    range1=round(max1-min1, 2)\n",
    "    q1=round(data[x].quantile(.25), 2)\n",
    "    q2=round(data[x].quantile(.5),2)\n",
    "    q3=round(data[x].quantile(.75), 2)\n",
    "    skew=round(data[x].skew(), 2)\n",
    "    kurt=round(data[x].kurt(), 2)\n",
    "    myvalue={\"missing\":missing, \"min\":min1, \"max\":max1, \"mean\":mean,\n",
    "             \"var\":var,\"std\":std, \"range\":range1,\"q1\":q1, \"q2\":q2,\"q3\":q3,\n",
    "            \"skewness\":skew, \"kurtosis\":kurt}\n",
    "#     sns.histplot(data[x])\n",
    "#     plt.show()\n",
    "#     sns.boxplot(data=data, y=data[x])\n",
    "#     plt.show()\n",
    "    return myvalue"
   ]
  },
  {
   "cell_type": "code",
   "execution_count": 27,
   "id": "8e659dcc",
   "metadata": {},
   "outputs": [
    {
     "data": {
      "text/plain": [
       "{'missing': 2660,\n",
       " 'min': 0.0,\n",
       " 'max': 6.0,\n",
       " 'mean': 1.4,\n",
       " 'var': 0.92,\n",
       " 'std': 0.96,\n",
       " 'range': 6.0,\n",
       " 'q1': 1.0,\n",
       " 'q2': 1.0,\n",
       " 'q3': 1.0,\n",
       " 'skewness': 2.74,\n",
       " 'kurtosis': 8.32}"
      ]
     },
     "execution_count": 27,
     "metadata": {},
     "output_type": "execute_result"
    }
   ],
   "source": [
    "univariate_num(data=taxi, x=\"passenger_count\")"
   ]
  },
  {
   "cell_type": "code",
   "execution_count": 28,
   "id": "a583dd63",
   "metadata": {},
   "outputs": [
    {
     "data": {
      "text/plain": [
       "{'missing': 0,\n",
       " 'min': 0.0,\n",
       " 'max': 111375.9,\n",
       " 'mean': 5.14,\n",
       " 'var': 174326.41,\n",
       " 'std': 417.52,\n",
       " 'range': 111375.9,\n",
       " 'q1': 1.14,\n",
       " 'q2': 1.94,\n",
       " 'q3': 3.63,\n",
       " 'skewness': 266.71,\n",
       " 'kurtosis': 71143.4}"
      ]
     },
     "execution_count": 28,
     "metadata": {},
     "output_type": "execute_result"
    }
   ],
   "source": [
    "univariate_num(data=taxi, x=\"trip_distance\")"
   ]
  },
  {
   "cell_type": "code",
   "execution_count": 29,
   "id": "9a3498b9",
   "metadata": {},
   "outputs": [
    {
     "data": {
      "text/plain": [
       "<AxesSubplot:ylabel='trip_distance'>"
      ]
     },
     "execution_count": 29,
     "metadata": {},
     "output_type": "execute_result"
    },
    {
     "data": {
      "image/png": "[encoded data removed]",
      "text/plain": [
       "<Figure size 432x288 with 1 Axes>"
      ]
     },
     "metadata": {
      "needs_background": "light"
     },
     "output_type": "display_data"
    }
   ],
   "source": [
    "sns.boxplot(data=taxi, y=\"trip_distance\")"
   ]
  },
  {
   "cell_type": "code",
   "execution_count": 30,
   "id": "86c69786",
   "metadata": {},
   "outputs": [
    {
     "data": {
      "text/html": [
       "<div>\n",
       "<style scoped>\n",
       "    .dataframe tbody tr th:only-of-type {\n",
       "        vertical-align: middle;\n",
       "    }\n",
       "\n",
       "    .dataframe tbody tr th {\n",
       "        vertical-align: top;\n",
       "    }\n",
       "\n",
       "    .dataframe thead th {\n",
       "        text-align: right;\n",
       "    }\n",
       "</style>\n",
       "<table border=\"1\" class=\"dataframe\">\n",
       "  <thead>\n",
       "    <tr style=\"text-align: right;\">\n",
       "      <th></th>\n",
       "      <th>VendorID</th>\n",
       "      <th>tpep_pickup_datetime</th>\n",
       "      <th>tpep_dropoff_datetime</th>\n",
       "      <th>passenger_count</th>\n",
       "      <th>trip_distance</th>\n",
       "      <th>RatecodeID</th>\n",
       "      <th>store_and_fwd_flag</th>\n",
       "      <th>PULocationID</th>\n",
       "      <th>DOLocationID</th>\n",
       "      <th>payment_type</th>\n",
       "      <th>fare_amount</th>\n",
       "      <th>extra</th>\n",
       "      <th>mta_tax</th>\n",
       "      <th>tip_amount</th>\n",
       "      <th>tolls_amount</th>\n",
       "      <th>improvement_surcharge</th>\n",
       "      <th>total_amount</th>\n",
       "      <th>congestion_surcharge</th>\n",
       "      <th>airport_fee</th>\n",
       "    </tr>\n",
       "  </thead>\n",
       "  <tbody>\n",
       "    <tr>\n",
       "      <th>11293</th>\n",
       "      <td>2</td>\n",
       "      <td>2022-06-01 08:48:20</td>\n",
       "      <td>2022-06-01 09:00:30</td>\n",
       "      <td>1.0</td>\n",
       "      <td>1.75</td>\n",
       "      <td>Standard_rate</td>\n",
       "      <td>N</td>\n",
       "      <td>143</td>\n",
       "      <td>48</td>\n",
       "      <td>Creidt_card</td>\n",
       "      <td>9.5</td>\n",
       "      <td>0.0</td>\n",
       "      <td>0.5</td>\n",
       "      <td>2.00</td>\n",
       "      <td>0.0</td>\n",
       "      <td>0.3</td>\n",
       "      <td>14.80</td>\n",
       "      <td>2.5</td>\n",
       "      <td>0.0</td>\n",
       "    </tr>\n",
       "    <tr>\n",
       "      <th>3241804</th>\n",
       "      <td>2</td>\n",
       "      <td>2022-06-29 12:30:59</td>\n",
       "      <td>2022-06-29 13:20:10</td>\n",
       "      <td>1.0</td>\n",
       "      <td>9.16</td>\n",
       "      <td>Standard_rate</td>\n",
       "      <td>N</td>\n",
       "      <td>143</td>\n",
       "      <td>95</td>\n",
       "      <td>Cash</td>\n",
       "      <td>36.0</td>\n",
       "      <td>0.0</td>\n",
       "      <td>0.5</td>\n",
       "      <td>0.00</td>\n",
       "      <td>0.0</td>\n",
       "      <td>0.3</td>\n",
       "      <td>39.30</td>\n",
       "      <td>2.5</td>\n",
       "      <td>0.0</td>\n",
       "    </tr>\n",
       "    <tr>\n",
       "      <th>2122208</th>\n",
       "      <td>1</td>\n",
       "      <td>2022-06-19 01:03:50</td>\n",
       "      <td>2022-06-19 01:27:44</td>\n",
       "      <td>1.0</td>\n",
       "      <td>5.00</td>\n",
       "      <td>Standard_rate</td>\n",
       "      <td>N</td>\n",
       "      <td>249</td>\n",
       "      <td>80</td>\n",
       "      <td>Creidt_card</td>\n",
       "      <td>20.0</td>\n",
       "      <td>3.0</td>\n",
       "      <td>0.5</td>\n",
       "      <td>2.00</td>\n",
       "      <td>0.0</td>\n",
       "      <td>0.3</td>\n",
       "      <td>25.80</td>\n",
       "      <td>2.5</td>\n",
       "      <td>0.0</td>\n",
       "    </tr>\n",
       "    <tr>\n",
       "      <th>645015</th>\n",
       "      <td>2</td>\n",
       "      <td>2022-06-06 17:16:57</td>\n",
       "      <td>2022-06-06 17:35:51</td>\n",
       "      <td>1.0</td>\n",
       "      <td>3.02</td>\n",
       "      <td>Standard_rate</td>\n",
       "      <td>N</td>\n",
       "      <td>230</td>\n",
       "      <td>113</td>\n",
       "      <td>Creidt_card</td>\n",
       "      <td>13.5</td>\n",
       "      <td>1.0</td>\n",
       "      <td>0.5</td>\n",
       "      <td>1.78</td>\n",
       "      <td>0.0</td>\n",
       "      <td>0.3</td>\n",
       "      <td>19.58</td>\n",
       "      <td>2.5</td>\n",
       "      <td>0.0</td>\n",
       "    </tr>\n",
       "    <tr>\n",
       "      <th>1752107</th>\n",
       "      <td>2</td>\n",
       "      <td>2022-06-15 22:09:34</td>\n",
       "      <td>2022-06-15 22:28:03</td>\n",
       "      <td>1.0</td>\n",
       "      <td>3.53</td>\n",
       "      <td>Standard_rate</td>\n",
       "      <td>N</td>\n",
       "      <td>90</td>\n",
       "      <td>237</td>\n",
       "      <td>Creidt_card</td>\n",
       "      <td>14.5</td>\n",
       "      <td>0.5</td>\n",
       "      <td>0.5</td>\n",
       "      <td>2.74</td>\n",
       "      <td>0.0</td>\n",
       "      <td>0.3</td>\n",
       "      <td>21.04</td>\n",
       "      <td>2.5</td>\n",
       "      <td>0.0</td>\n",
       "    </tr>\n",
       "  </tbody>\n",
       "</table>\n",
       "</div>"
      ],
      "text/plain": [
       "        VendorID tpep_pickup_datetime tpep_dropoff_datetime  passenger_count  \\\n",
       "11293          2  2022-06-01 08:48:20   2022-06-01 09:00:30              1.0   \n",
       "3241804        2  2022-06-29 12:30:59   2022-06-29 13:20:10              1.0   \n",
       "2122208        1  2022-06-19 01:03:50   2022-06-19 01:27:44              1.0   \n",
       "645015         2  2022-06-06 17:16:57   2022-06-06 17:35:51              1.0   \n",
       "1752107        2  2022-06-15 22:09:34   2022-06-15 22:28:03              1.0   \n",
       "\n",
       "         trip_distance     RatecodeID store_and_fwd_flag  PULocationID  \\\n",
       "11293             1.75  Standard_rate                  N           143   \n",
       "3241804           9.16  Standard_rate                  N           143   \n",
       "2122208           5.00  Standard_rate                  N           249   \n",
       "645015            3.02  Standard_rate                  N           230   \n",
       "1752107           3.53  Standard_rate                  N            90   \n",
       "\n",
       "         DOLocationID payment_type  fare_amount  extra  mta_tax  tip_amount  \\\n",
       "11293              48  Creidt_card          9.5    0.0      0.5        2.00   \n",
       "3241804            95         Cash         36.0    0.0      0.5        0.00   \n",
       "2122208            80  Creidt_card         20.0    3.0      0.5        2.00   \n",
       "645015            113  Creidt_card         13.5    1.0      0.5        1.78   \n",
       "1752107           237  Creidt_card         14.5    0.5      0.5        2.74   \n",
       "\n",
       "         tolls_amount  improvement_surcharge  total_amount  \\\n",
       "11293             0.0                    0.3         14.80   \n",
       "3241804           0.0                    0.3         39.30   \n",
       "2122208           0.0                    0.3         25.80   \n",
       "645015            0.0                    0.3         19.58   \n",
       "1752107           0.0                    0.3         21.04   \n",
       "\n",
       "         congestion_surcharge  airport_fee  \n",
       "11293                     2.5          0.0  \n",
       "3241804                   2.5          0.0  \n",
       "2122208                   2.5          0.0  \n",
       "645015                    2.5          0.0  \n",
       "1752107                   2.5          0.0  "
      ]
     },
     "execution_count": 30,
     "metadata": {},
     "output_type": "execute_result"
    }
   ],
   "source": [
    "taxi.head()"
   ]
  },
  {
   "cell_type": "code",
   "execution_count": 31,
   "id": "21694182",
   "metadata": {},
   "outputs": [
    {
     "data": {
      "text/plain": [
       "{'missing': 0,\n",
       " 'min': 1,\n",
       " 'max': 265,\n",
       " 'mean': 164.48,\n",
       " 'var': 4309.39,\n",
       " 'std': 65.65,\n",
       " 'range': 264,\n",
       " 'q1': 132.0,\n",
       " 'q2': 162.0,\n",
       " 'q3': 234.0,\n",
       " 'skewness': -0.26,\n",
       " 'kurtosis': -0.89}"
      ]
     },
     "execution_count": 31,
     "metadata": {},
     "output_type": "execute_result"
    }
   ],
   "source": [
    "univariate_num(data=taxi, x=\"PULocationID\")"
   ]
  },
  {
   "cell_type": "code",
   "execution_count": 32,
   "id": "932e8917",
   "metadata": {},
   "outputs": [
    {
     "name": "stdout",
     "output_type": "stream",
     "text": [
      "Total missing values : 0\n",
      "\n",
      "Total count of unique categories: 207\n",
      "\n",
      "Unique categories :\n",
      "[143, 249, 230, 90, 142, 186, 264, 87, 100, 163, 75, 237, 68, 43, 161, 170, 239, 70, 41, 236, 138, 148, 231, 246, 144, 141, 79, 107, 234, 229, 162, 164, 42, 265, 48, 132, 238, 233, 263, 140, 137, 166, 262, 50, 4, 151, 65, 125, 113, 13, 24, 215, 232, 33, 88, 158, 211, 244, 114, 261, 74, 224, 181, 223, 255, 69, 157, 225, 61, 45, 116, 209, 21, 193, 28, 7, 55, 3, 205, 66, 152, 248, 112, 9, 203, 191, 226, 219, 256, 173, 146, 37, 80, 216, 40, 145, 77, 202, 25, 12, 117, 129, 1, 135, 51, 247, 179, 62, 95, 52, 93, 39, 168, 92, 235, 14, 243, 200, 259, 260, 159, 49, 56, 10, 17, 72, 97, 167, 131, 82, 130, 32, 126, 147, 182, 122, 121, 198, 102, 106, 254, 119, 227, 38, 228, 197, 242, 22, 207, 196, 212, 257, 63, 169, 71, 188, 134, 60, 218, 210, 19, 91, 250, 189, 165, 89, 23, 35, 124, 8, 83, 222, 153, 201, 53, 67, 190, 220, 36, 139, 34, 180, 120, 115, 195, 29, 76, 217, 208, 177, 150, 108, 127, 18, 73, 78, 5, 241, 54, 194, 174, 171, 258, 175, 178, 213, 26]\n",
      "Value count and %\n",
      "      Count percentage\n",
      "132   3406      4.79%\n",
      "237   3373      4.74%\n",
      "236   2972      4.18%\n",
      "161   2794      3.93%\n",
      "162   2386      3.35%\n",
      "..     ...        ...\n",
      "131      1       0.0%\n",
      "139      1       0.0%\n",
      "180      1       0.0%\n",
      "212      1       0.0%\n",
      "26       1       0.0%\n",
      "\n",
      "[207 rows x 2 columns]\n"
     ]
    },
    {
     "data": {
      "image/png": "[encoded data removed]",
      "text/plain": [
       "<Figure size 432x288 with 1 Axes>"
      ]
     },
     "metadata": {
      "needs_background": "light"
     },
     "output_type": "display_data"
    }
   ],
   "source": [
    "univariate_cat(data=taxi, x=\"PULocationID\")"
   ]
  },
  {
   "cell_type": "code",
   "execution_count": 33,
   "id": "12c0c86a",
   "metadata": {},
   "outputs": [
    {
     "name": "stdout",
     "output_type": "stream",
     "text": [
      "Total missing values : 0\n",
      "\n",
      "Total count of unique categories: 243\n",
      "\n",
      "Unique categories :\n",
      "[48, 95, 80, 113, 237, 107, 162, 239, 236, 264, 233, 151, 47, 211, 209, 116, 238, 50, 37, 246, 164, 161, 230, 262, 87, 140, 166, 232, 141, 163, 114, 143, 231, 43, 158, 68, 234, 170, 146, 263, 33, 42, 138, 142, 75, 90, 186, 265, 188, 125, 137, 167, 229, 148, 45, 13, 4, 79, 181, 132, 144, 223, 100, 235, 202, 249, 1, 74, 7, 41, 40, 197, 51, 247, 261, 139, 49, 193, 17, 16, 152, 88, 206, 35, 65, 145, 24, 244, 124, 243, 175, 29, 168, 198, 224, 66, 70, 256, 182, 228, 127, 255, 25, 258, 226, 56, 225, 160, 112, 117, 19, 91, 61, 200, 89, 227, 133, 22, 134, 216, 126, 97, 218, 12, 155, 135, 18, 69, 165, 220, 36, 129, 250, 219, 38, 11, 205, 10, 174, 64, 14, 52, 123, 191, 179, 39, 189, 54, 212, 28, 106, 196, 86, 26, 92, 93, 20, 85, 248, 136, 76, 210, 217, 83, 23, 215, 208, 31, 195, 171, 222, 173, 62, 178, 192, 63, 190, 180, 260, 203, 257, 102, 55, 131, 121, 3, 147, 201, 130, 194, 128, 82, 159, 15, 240, 32, 252, 67, 259, 72, 81, 122, 169, 177, 242, 96, 213, 157, 119, 77, 98, 254, 53, 241, 57, 60, 8, 108, 71, 185, 34, 149, 172, 207, 9, 118, 115, 150, 94, 153, 120, 251, 21, 214, 101, 58, 78, 73, 221, 183, 176, 27, 154]\n",
      "Value count and %\n",
      "      Count percentage\n",
      "236   2969      4.17%\n",
      "237   2804      3.94%\n",
      "161   2555      3.59%\n",
      "230   2184      3.07%\n",
      "170   2150      3.02%\n",
      "..     ...        ...\n",
      "221      1       0.0%\n",
      "81       1       0.0%\n",
      "176      1       0.0%\n",
      "27       1       0.0%\n",
      "154      1       0.0%\n",
      "\n",
      "[243 rows x 2 columns]\n"
     ]
    },
    {
     "data": {
      "image/png": "[encoded data removed]",
      "text/plain": [
       "<Figure size 432x288 with 1 Axes>"
      ]
     },
     "metadata": {
      "needs_background": "light"
     },
     "output_type": "display_data"
    }
   ],
   "source": [
    "univariate_cat(data=taxi, x=\"DOLocationID\")"
   ]
  },
  {
   "cell_type": "code",
   "execution_count": 34,
   "id": "5a0b3936",
   "metadata": {},
   "outputs": [],
   "source": [
    "taxi.drop(columns=[\"DOLocationID\", \"PULocationID\"], inplace=True)"
   ]
  },
  {
   "cell_type": "code",
   "execution_count": 35,
   "id": "c72ba7dd",
   "metadata": {},
   "outputs": [
    {
     "data": {
      "text/plain": [
       "{'missing': 0,\n",
       " 'min': -500.0,\n",
       " 'max': 6977.0,\n",
       " 'mean': 15.3,\n",
       " 'var': 2259.4,\n",
       " 'std': 47.53,\n",
       " 'range': 7477.0,\n",
       " 'q1': 7.0,\n",
       " 'q2': 10.5,\n",
       " 'q3': 16.5,\n",
       " 'skewness': 132.37,\n",
       " 'kurtosis': 19353.71}"
      ]
     },
     "execution_count": 35,
     "metadata": {},
     "output_type": "execute_result"
    }
   ],
   "source": [
    "univariate_num(data=taxi, x=\"fare_amount\")"
   ]
  },
  {
   "cell_type": "code",
   "execution_count": 36,
   "id": "7763d7b7",
   "metadata": {},
   "outputs": [
    {
     "data": {
      "text/plain": [
       "30.75"
      ]
     },
     "execution_count": 36,
     "metadata": {},
     "output_type": "execute_result"
    }
   ],
   "source": [
    "upper=16.5 +1.5*(16.5-7)\n",
    "upper"
   ]
  },
  {
   "cell_type": "code",
   "execution_count": 37,
   "id": "fb1073e8",
   "metadata": {},
   "outputs": [
    {
     "data": {
      "text/plain": [
       "(525, 17)"
      ]
     },
     "execution_count": 37,
     "metadata": {},
     "output_type": "execute_result"
    }
   ],
   "source": [
    "taxi[taxi[\"fare_amount\"]<2.5].shape"
   ]
  },
  {
   "cell_type": "code",
   "execution_count": 38,
   "id": "4afe2cee",
   "metadata": {},
   "outputs": [
    {
     "data": {
      "text/plain": [
       "(71162, 17)"
      ]
     },
     "execution_count": 38,
     "metadata": {},
     "output_type": "execute_result"
    }
   ],
   "source": [
    "taxi.shape"
   ]
  },
  {
   "cell_type": "code",
   "execution_count": 39,
   "id": "ed50b3d1",
   "metadata": {},
   "outputs": [
    {
     "data": {
      "text/plain": [
       "0.9295774647887324"
      ]
     },
     "execution_count": 39,
     "metadata": {},
     "output_type": "execute_result"
    }
   ],
   "source": [
    "(71000-5000)/71000"
   ]
  },
  {
   "cell_type": "code",
   "execution_count": 40,
   "id": "3d62110c",
   "metadata": {},
   "outputs": [],
   "source": [
    "taxi1=taxi[taxi[\"fare_amount\"]>=2.5]"
   ]
  },
  {
   "cell_type": "code",
   "execution_count": 41,
   "id": "b4acfe08",
   "metadata": {},
   "outputs": [
    {
     "data": {
      "text/plain": [
       "(70637, 17)"
      ]
     },
     "execution_count": 41,
     "metadata": {},
     "output_type": "execute_result"
    }
   ],
   "source": [
    "taxi1.shape"
   ]
  },
  {
   "cell_type": "code",
   "execution_count": 42,
   "id": "92639bab",
   "metadata": {},
   "outputs": [
    {
     "data": {
      "text/plain": [
       "<AxesSubplot:ylabel='fare_amount'>"
      ]
     },
     "execution_count": 42,
     "metadata": {},
     "output_type": "execute_result"
    },
    {
     "data": {
      "image/png": "[encoded data removed]",
      "text/plain": [
       "<Figure size 432x288 with 1 Axes>"
      ]
     },
     "metadata": {
      "needs_background": "light"
     },
     "output_type": "display_data"
    }
   ],
   "source": [
    "sns.boxplot(data=taxi1, y=\"fare_amount\")"
   ]
  },
  {
   "cell_type": "code",
   "execution_count": 43,
   "id": "aea6ead0",
   "metadata": {},
   "outputs": [
    {
     "data": {
      "text/plain": [
       "(7451, 17)"
      ]
     },
     "execution_count": 43,
     "metadata": {},
     "output_type": "execute_result"
    }
   ],
   "source": [
    "taxi1[taxi1[\"fare_amount\"]>30.75].shape"
   ]
  },
  {
   "cell_type": "code",
   "execution_count": 44,
   "id": "7eccbb45",
   "metadata": {},
   "outputs": [
    {
     "data": {
      "text/plain": [
       "count    70637.000000\n",
       "mean        15.515271\n",
       "std         47.583181\n",
       "min          2.500000\n",
       "50%         10.500000\n",
       "75%         16.500000\n",
       "80%         19.500000\n",
       "90%         32.000000\n",
       "95%         52.000000\n",
       "96%         52.000000\n",
       "97%         52.000000\n",
       "98%         52.000000\n",
       "99%         64.000000\n",
       "max       6977.000000\n",
       "Name: fare_amount, dtype: float64"
      ]
     },
     "execution_count": 44,
     "metadata": {},
     "output_type": "execute_result"
    }
   ],
   "source": [
    "taxi1[\"fare_amount\"].describe(percentiles=[.75,.8,.9,.95,.96,.97,.98,.99])"
   ]
  },
  {
   "cell_type": "code",
   "execution_count": 45,
   "id": "532a9b9d",
   "metadata": {},
   "outputs": [
    {
     "data": {
      "text/plain": [
       "Index(['tpep_pickup_datetime', 'tpep_dropoff_datetime', 'passenger_count',\n",
       "       'trip_distance', 'fare_amount', 'extra', 'mta_tax', 'tip_amount',\n",
       "       'tolls_amount', 'improvement_surcharge', 'total_amount',\n",
       "       'congestion_surcharge', 'airport_fee'],\n",
       "      dtype='object')"
      ]
     },
     "execution_count": 45,
     "metadata": {},
     "output_type": "execute_result"
    }
   ],
   "source": [
    "taxi1.dtypes[taxi1.dtypes!=\"object\"].index"
   ]
  },
  {
   "cell_type": "code",
   "execution_count": 46,
   "id": "ad4a34b9",
   "metadata": {},
   "outputs": [
    {
     "data": {
      "text/plain": [
       "{'missing': 0,\n",
       " 'min': 0.0,\n",
       " 'max': 8.25,\n",
       " 'mean': 1.03,\n",
       " 'var': 1.58,\n",
       " 'std': 1.26,\n",
       " 'range': 8.25,\n",
       " 'q1': 0.0,\n",
       " 'q2': 0.5,\n",
       " 'q3': 2.5,\n",
       " 'skewness': 1.14,\n",
       " 'kurtosis': 0.75}"
      ]
     },
     "execution_count": 46,
     "metadata": {},
     "output_type": "execute_result"
    }
   ],
   "source": [
    "'extra', 'mta_tax', 'tip_amount','tolls_amount', 'improvement_surcharge', 'total_amount','congestion_surcharge', 'airport_fee'\n",
    "univariate_num(data=taxi1, x=\"extra\")"
   ]
  },
  {
   "cell_type": "code",
   "execution_count": 47,
   "id": "eb86fa3c",
   "metadata": {},
   "outputs": [
    {
     "data": {
      "text/plain": [
       "(28530, 17)"
      ]
     },
     "execution_count": 47,
     "metadata": {},
     "output_type": "execute_result"
    }
   ],
   "source": [
    "taxi1[taxi1[\"extra\"]==0].shape"
   ]
  },
  {
   "cell_type": "code",
   "execution_count": 48,
   "id": "a11d4cbc",
   "metadata": {},
   "outputs": [
    {
     "data": {
      "text/plain": [
       "{'missing': 0,\n",
       " 'min': 0.0,\n",
       " 'max': 2.78,\n",
       " 'mean': 0.49,\n",
       " 'var': 0.0,\n",
       " 'std': 0.05,\n",
       " 'range': 2.78,\n",
       " 'q1': 0.5,\n",
       " 'q2': 0.5,\n",
       " 'q3': 0.5,\n",
       " 'skewness': -6.5,\n",
       " 'kurtosis': 188.41}"
      ]
     },
     "execution_count": 48,
     "metadata": {},
     "output_type": "execute_result"
    }
   ],
   "source": [
    "'mta_tax', 'tip_amount','tolls_amount', 'improvement_surcharge', 'total_amount','congestion_surcharge', 'airport_fee'\n",
    "univariate_num(data=taxi1, x=\"mta_tax\")"
   ]
  },
  {
   "cell_type": "code",
   "execution_count": 49,
   "id": "acf38c3b",
   "metadata": {},
   "outputs": [
    {
     "data": {
      "text/plain": [
       "<AxesSubplot:ylabel='mta_tax'>"
      ]
     },
     "execution_count": 49,
     "metadata": {},
     "output_type": "execute_result"
    },
    {
     "data": {
      "image/png": "[encoded data removed]",
      "text/plain": [
       "<Figure size 432x288 with 1 Axes>"
      ]
     },
     "metadata": {
      "needs_background": "light"
     },
     "output_type": "display_data"
    }
   ],
   "source": [
    "sns.boxplot(data=taxi1, y=\"mta_tax\")"
   ]
  },
  {
   "cell_type": "code",
   "execution_count": 50,
   "id": "b7301e47",
   "metadata": {},
   "outputs": [
    {
     "data": {
      "text/plain": [
       "{'missing': 0,\n",
       " 'min': 0.0,\n",
       " 'max': 98.0,\n",
       " 'mean': 2.81,\n",
       " 'var': 10.4,\n",
       " 'std': 3.22,\n",
       " 'range': 98.0,\n",
       " 'q1': 1.0,\n",
       " 'q2': 2.2,\n",
       " 'q3': 3.45,\n",
       " 'skewness': 3.82,\n",
       " 'kurtosis': 44.22}"
      ]
     },
     "execution_count": 50,
     "metadata": {},
     "output_type": "execute_result"
    }
   ],
   "source": [
    "'tip_amount','tolls_amount', 'improvement_surcharge', 'total_amount','congestion_surcharge', 'airport_fee'\n",
    "univariate_num(data=taxi1, x=\"tip_amount\")"
   ]
  },
  {
   "cell_type": "code",
   "execution_count": 51,
   "id": "b34b7e94",
   "metadata": {},
   "outputs": [
    {
     "data": {
      "text/plain": [
       "<AxesSubplot:ylabel='tip_amount'>"
      ]
     },
     "execution_count": 51,
     "metadata": {},
     "output_type": "execute_result"
    },
    {
     "data": {
      "image/png": "[encoded data removed]",
      "text/plain": [
       "<Figure size 432x288 with 1 Axes>"
      ]
     },
     "metadata": {
      "needs_background": "light"
     },
     "output_type": "display_data"
    }
   ],
   "source": [
    "sns.boxplot(data=taxi1, y=\"tip_amount\")"
   ]
  },
  {
   "cell_type": "code",
   "execution_count": 52,
   "id": "f445578f",
   "metadata": {},
   "outputs": [
    {
     "data": {
      "text/plain": [
       "{'missing': 0,\n",
       " 'min': 0.0,\n",
       " 'max': 52.0,\n",
       " 'mean': 0.57,\n",
       " 'var': 4.33,\n",
       " 'std': 2.08,\n",
       " 'range': 52.0,\n",
       " 'q1': 0.0,\n",
       " 'q2': 0.0,\n",
       " 'q3': 0.0,\n",
       " 'skewness': 4.8,\n",
       " 'kurtosis': 36.86}"
      ]
     },
     "execution_count": 52,
     "metadata": {},
     "output_type": "execute_result"
    }
   ],
   "source": [
    "'tolls_amount', 'improvement_surcharge', 'total_amount','congestion_surcharge', 'airport_fee'\n",
    "univariate_num(data=taxi1, x=\"tolls_amount\")"
   ]
  },
  {
   "cell_type": "code",
   "execution_count": 53,
   "id": "4cb29a51",
   "metadata": {},
   "outputs": [
    {
     "data": {
      "text/plain": [
       "<AxesSubplot:ylabel='tolls_amount'>"
      ]
     },
     "execution_count": 53,
     "metadata": {},
     "output_type": "execute_result"
    },
    {
     "data": {
      "image/png": "[encoded data removed]",
      "text/plain": [
       "<Figure size 432x288 with 1 Axes>"
      ]
     },
     "metadata": {
      "needs_background": "light"
     },
     "output_type": "display_data"
    }
   ],
   "source": [
    "sns.boxplot(data=taxi1, y=\"tolls_amount\")"
   ]
  },
  {
   "cell_type": "code",
   "execution_count": 54,
   "id": "ff7b78da",
   "metadata": {},
   "outputs": [
    {
     "data": {
      "text/plain": [
       "{'missing': 0,\n",
       " 'min': 0.0,\n",
       " 'max': 0.3,\n",
       " 'mean': 0.3,\n",
       " 'var': 0.0,\n",
       " 'std': 0.0,\n",
       " 'range': 0.3,\n",
       " 'q1': 0.3,\n",
       " 'q2': 0.3,\n",
       " 'q3': 0.3,\n",
       " 'skewness': -76.71,\n",
       " 'kurtosis': 5881.83}"
      ]
     },
     "execution_count": 54,
     "metadata": {},
     "output_type": "execute_result"
    }
   ],
   "source": [
    "'improvement_surcharge', 'total_amount','congestion_surcharge', 'airport_fee'\n",
    "univariate_num(data=taxi1, x=\"improvement_surcharge\")"
   ]
  },
  {
   "cell_type": "code",
   "execution_count": 55,
   "id": "3163b5de",
   "metadata": {},
   "outputs": [
    {
     "data": {
      "text/plain": [
       "<AxesSubplot:ylabel='improvement_surcharge'>"
      ]
     },
     "execution_count": 55,
     "metadata": {},
     "output_type": "execute_result"
    },
    {
     "data": {
      "image/png": "[encoded data removed]",
      "text/plain": [
       "<Figure size 432x288 with 1 Axes>"
      ]
     },
     "metadata": {
      "needs_background": "light"
     },
     "output_type": "display_data"
    }
   ],
   "source": [
    "sns.boxplot(data=taxi1, y=\"improvement_surcharge\")"
   ]
  },
  {
   "cell_type": "code",
   "execution_count": 56,
   "id": "882aa236",
   "metadata": {},
   "outputs": [
    {
     "data": {
      "text/plain": [
       "(12, 17)"
      ]
     },
     "execution_count": 56,
     "metadata": {},
     "output_type": "execute_result"
    }
   ],
   "source": [
    "taxi1[taxi1[\"improvement_surcharge\"]==0].shape"
   ]
  },
  {
   "cell_type": "code",
   "execution_count": 57,
   "id": "52678dd3",
   "metadata": {},
   "outputs": [
    {
     "name": "stderr",
     "output_type": "stream",
     "text": [
      "C:\\Users\\Archit\\AppData\\Local\\Temp/ipykernel_18208/2366615226.py:1: SettingWithCopyWarning: \n",
      "A value is trying to be set on a copy of a slice from a DataFrame\n",
      "\n",
      "See the caveats in the documentation: https://pandas.pydata.org/pandas-docs/stable/user_guide/indexing.html#returning-a-view-versus-a-copy\n",
      "  taxi1.drop(columns=[\"improvement_surcharge\"], inplace=True)\n"
     ]
    }
   ],
   "source": [
    "taxi1.drop(columns=[\"improvement_surcharge\"], inplace=True)"
   ]
  },
  {
   "cell_type": "code",
   "execution_count": 58,
   "id": "583fa0c3",
   "metadata": {},
   "outputs": [],
   "source": [
    "# taxi1.head()"
   ]
  },
  {
   "cell_type": "code",
   "execution_count": 59,
   "id": "291cc33f",
   "metadata": {},
   "outputs": [
    {
     "data": {
      "text/plain": [
       "{'missing': 0,\n",
       " 'min': 3.3,\n",
       " 'max': 6981.3,\n",
       " 'mean': 22.45,\n",
       " 'var': 2374.85,\n",
       " 'std': 48.73,\n",
       " 'range': 6978.0,\n",
       " 'q1': 12.36,\n",
       " 'q2': 16.3,\n",
       " 'q3': 23.3,\n",
       " 'skewness': 123.63,\n",
       " 'kurtosis': 17609.46}"
      ]
     },
     "execution_count": 59,
     "metadata": {},
     "output_type": "execute_result"
    }
   ],
   "source": [
    "'total_amount','congestion_surcharge', 'airport_fee'\n",
    "univariate_num(data=taxi1, x=\"total_amount\")"
   ]
  },
  {
   "cell_type": "code",
   "execution_count": 60,
   "id": "34f98f1f",
   "metadata": {},
   "outputs": [
    {
     "data": {
      "text/plain": [
       "<AxesSubplot:ylabel='total_amount'>"
      ]
     },
     "execution_count": 60,
     "metadata": {},
     "output_type": "execute_result"
    },
    {
     "data": {
      "image/png": "[encoded data removed]",
      "text/plain": [
       "<Figure size 432x288 with 1 Axes>"
      ]
     },
     "metadata": {
      "needs_background": "light"
     },
     "output_type": "display_data"
    }
   ],
   "source": [
    "sns.boxplot(data=taxi1, y=\"total_amount\") "
   ]
  },
  {
   "cell_type": "code",
   "execution_count": 61,
   "id": "0c6fb07e",
   "metadata": {},
   "outputs": [
    {
     "data": {
      "text/plain": [
       "{'missing': 2658,\n",
       " 'min': 0.0,\n",
       " 'max': 2.5,\n",
       " 'mean': 2.31,\n",
       " 'var': 0.44,\n",
       " 'std': 0.67,\n",
       " 'range': 2.5,\n",
       " 'q1': 2.5,\n",
       " 'q2': 2.5,\n",
       " 'q3': 2.5,\n",
       " 'skewness': -3.17,\n",
       " 'kurtosis': 8.08}"
      ]
     },
     "execution_count": 61,
     "metadata": {},
     "output_type": "execute_result"
    }
   ],
   "source": [
    "'congestion_surcharge', 'airport_fee'\n",
    "univariate_num(data=taxi1, x=\"congestion_surcharge\")"
   ]
  },
  {
   "cell_type": "code",
   "execution_count": 62,
   "id": "8b1a4f09",
   "metadata": {},
   "outputs": [
    {
     "data": {
      "text/plain": [
       "{'missing': 2658,\n",
       " 'min': 0.0,\n",
       " 'max': 1.25,\n",
       " 'mean': 0.1,\n",
       " 'var': 0.11,\n",
       " 'std': 0.34,\n",
       " 'range': 1.25,\n",
       " 'q1': 0.0,\n",
       " 'q2': 0.0,\n",
       " 'q3': 0.0,\n",
       " 'skewness': 3.15,\n",
       " 'kurtosis': 7.92}"
      ]
     },
     "execution_count": 62,
     "metadata": {},
     "output_type": "execute_result"
    }
   ],
   "source": [
    "'airport_fee'\n",
    "univariate_num(data=taxi1, x=\"airport_fee\")"
   ]
  },
  {
   "cell_type": "code",
   "execution_count": 63,
   "id": "4be7cba8",
   "metadata": {},
   "outputs": [
    {
     "data": {
      "text/plain": [
       "<AxesSubplot:ylabel='airport_fee'>"
      ]
     },
     "execution_count": 63,
     "metadata": {},
     "output_type": "execute_result"
    },
    {
     "data": {
      "image/png": "[encoded data removed]",
      "text/plain": [
       "<Figure size 432x288 with 1 Axes>"
      ]
     },
     "metadata": {
      "needs_background": "light"
     },
     "output_type": "display_data"
    }
   ],
   "source": [
    "sns.boxplot(data=taxi1, y=\"airport_fee\")"
   ]
  },
  {
   "cell_type": "code",
   "execution_count": 64,
   "id": "cd8d566d",
   "metadata": {},
   "outputs": [
    {
     "data": {
      "text/plain": [
       "(62683, 16)"
      ]
     },
     "execution_count": 64,
     "metadata": {},
     "output_type": "execute_result"
    }
   ],
   "source": [
    "taxi1[taxi1[\"airport_fee\"]==0].shape"
   ]
  },
  {
   "cell_type": "code",
   "execution_count": null,
   "id": "ba36c2b4",
   "metadata": {},
   "outputs": [],
   "source": []
  },
  {
   "cell_type": "markdown",
   "id": "e9988993",
   "metadata": {},
   "source": [
    "## Feature Engineering "
   ]
  },
  {
   "cell_type": "code",
   "execution_count": 65,
   "id": "a4796948",
   "metadata": {},
   "outputs": [
    {
     "data": {
      "text/plain": [
       "Index(['VendorID', 'tpep_pickup_datetime', 'tpep_dropoff_datetime',\n",
       "       'passenger_count', 'trip_distance', 'RatecodeID', 'store_and_fwd_flag',\n",
       "       'payment_type', 'fare_amount', 'extra', 'mta_tax', 'tip_amount',\n",
       "       'tolls_amount', 'total_amount', 'congestion_surcharge', 'airport_fee'],\n",
       "      dtype='object')"
      ]
     },
     "execution_count": 65,
     "metadata": {},
     "output_type": "execute_result"
    }
   ],
   "source": [
    "taxi1.columns"
   ]
  },
  {
   "cell_type": "code",
   "execution_count": 66,
   "id": "47ef41b1",
   "metadata": {},
   "outputs": [
    {
     "data": {
      "text/plain": [
       "Timestamp('2002-10-21 12:53:50')"
      ]
     },
     "execution_count": 66,
     "metadata": {},
     "output_type": "execute_result"
    }
   ],
   "source": [
    "taxi1[\"tpep_pickup_datetime\"].min()"
   ]
  },
  {
   "cell_type": "code",
   "execution_count": 67,
   "id": "f7ea87b8",
   "metadata": {},
   "outputs": [
    {
     "data": {
      "text/plain": [
       "Timestamp('2022-07-01 00:36:12')"
      ]
     },
     "execution_count": 67,
     "metadata": {},
     "output_type": "execute_result"
    }
   ],
   "source": [
    "taxi1[\"tpep_pickup_datetime\"].max()"
   ]
  },
  {
   "cell_type": "code",
   "execution_count": 68,
   "id": "4ea6b814",
   "metadata": {},
   "outputs": [],
   "source": [
    "# Date : month , weekend / weekday, public_holiday, time of pickup (early morning, morning, afternoon, evening, night , late night) \n",
    "# two date : duration"
   ]
  },
  {
   "cell_type": "code",
   "execution_count": 69,
   "id": "bea18a36",
   "metadata": {},
   "outputs": [
    {
     "name": "stderr",
     "output_type": "stream",
     "text": [
      "C:\\Users\\Archit\\AppData\\Local\\Temp/ipykernel_18208/1187736738.py:1: SettingWithCopyWarning: \n",
      "A value is trying to be set on a copy of a slice from a DataFrame.\n",
      "Try using .loc[row_indexer,col_indexer] = value instead\n",
      "\n",
      "See the caveats in the documentation: https://pandas.pydata.org/pandas-docs/stable/user_guide/indexing.html#returning-a-view-versus-a-copy\n",
      "  taxi1[\"month\"]=taxi1[\"tpep_pickup_datetime\"].dt.month\n",
      "C:\\Users\\Archit\\AppData\\Local\\Temp/ipykernel_18208/1187736738.py:2: SettingWithCopyWarning: \n",
      "A value is trying to be set on a copy of a slice from a DataFrame.\n",
      "Try using .loc[row_indexer,col_indexer] = value instead\n",
      "\n",
      "See the caveats in the documentation: https://pandas.pydata.org/pandas-docs/stable/user_guide/indexing.html#returning-a-view-versus-a-copy\n",
      "  taxi1[\"year\"]=taxi1[\"tpep_pickup_datetime\"].dt.year\n",
      "C:\\Users\\Archit\\AppData\\Local\\Temp/ipykernel_18208/1187736738.py:3: SettingWithCopyWarning: \n",
      "A value is trying to be set on a copy of a slice from a DataFrame.\n",
      "Try using .loc[row_indexer,col_indexer] = value instead\n",
      "\n",
      "See the caveats in the documentation: https://pandas.pydata.org/pandas-docs/stable/user_guide/indexing.html#returning-a-view-versus-a-copy\n",
      "  taxi1[\"week_of_day\"]=taxi1[\"tpep_pickup_datetime\"].dt.dayofweek\n",
      "C:\\Users\\Archit\\AppData\\Local\\Temp/ipykernel_18208/1187736738.py:4: SettingWithCopyWarning: \n",
      "A value is trying to be set on a copy of a slice from a DataFrame.\n",
      "Try using .loc[row_indexer,col_indexer] = value instead\n",
      "\n",
      "See the caveats in the documentation: https://pandas.pydata.org/pandas-docs/stable/user_guide/indexing.html#returning-a-view-versus-a-copy\n",
      "  taxi1[\"day\"]=taxi1[\"tpep_pickup_datetime\"].dt.day\n",
      "C:\\Users\\Archit\\AppData\\Local\\Temp/ipykernel_18208/1187736738.py:5: SettingWithCopyWarning: \n",
      "A value is trying to be set on a copy of a slice from a DataFrame.\n",
      "Try using .loc[row_indexer,col_indexer] = value instead\n",
      "\n",
      "See the caveats in the documentation: https://pandas.pydata.org/pandas-docs/stable/user_guide/indexing.html#returning-a-view-versus-a-copy\n",
      "  taxi1[\"hours\"]=taxi1[\"tpep_pickup_datetime\"].dt.hour\n",
      "C:\\Users\\Archit\\AppData\\Local\\Temp/ipykernel_18208/1187736738.py:6: SettingWithCopyWarning: \n",
      "A value is trying to be set on a copy of a slice from a DataFrame.\n",
      "Try using .loc[row_indexer,col_indexer] = value instead\n",
      "\n",
      "See the caveats in the documentation: https://pandas.pydata.org/pandas-docs/stable/user_guide/indexing.html#returning-a-view-versus-a-copy\n",
      "  taxi1[\"minutes\"]=taxi1[\"tpep_pickup_datetime\"].dt.minute\n"
     ]
    }
   ],
   "source": [
    "taxi1[\"month\"]=taxi1[\"tpep_pickup_datetime\"].dt.month\n",
    "taxi1[\"year\"]=taxi1[\"tpep_pickup_datetime\"].dt.year\n",
    "taxi1[\"week_of_day\"]=taxi1[\"tpep_pickup_datetime\"].dt.dayofweek\n",
    "taxi1[\"day\"]=taxi1[\"tpep_pickup_datetime\"].dt.day\n",
    "taxi1[\"hours\"]=taxi1[\"tpep_pickup_datetime\"].dt.hour\n",
    "taxi1[\"minutes\"]=taxi1[\"tpep_pickup_datetime\"].dt.minute\n"
   ]
  },
  {
   "cell_type": "code",
   "execution_count": 70,
   "id": "d58916cf",
   "metadata": {},
   "outputs": [
    {
     "data": {
      "text/plain": [
       "9     2650\n",
       "23    2636\n",
       "17    2617\n",
       "16    2612\n",
       "15    2594\n",
       "3     2562\n",
       "24    2539\n",
       "2     2527\n",
       "10    2523\n",
       "1     2520\n",
       "8     2519\n",
       "7     2474\n",
       "14    2440\n",
       "11    2393\n",
       "21    2389\n",
       "4     2388\n",
       "22    2376\n",
       "29    2357\n",
       "30    2351\n",
       "25    2346\n",
       "13    2326\n",
       "18    2274\n",
       "6     2200\n",
       "28    2181\n",
       "12    2061\n",
       "5     2032\n",
       "27    2023\n",
       "19    1990\n",
       "20    1954\n",
       "26    1782\n",
       "31       1\n",
       "Name: day, dtype: int64"
      ]
     },
     "execution_count": 70,
     "metadata": {},
     "output_type": "execute_result"
    }
   ],
   "source": [
    "taxi1[\"day\"].value_counts()"
   ]
  },
  {
   "cell_type": "code",
   "execution_count": 71,
   "id": "5f25cd96",
   "metadata": {},
   "outputs": [],
   "source": [
    "taxi1=taxi1[taxi1[\"month\"]==6]\n",
    "\n",
    "taxi1=taxi1[taxi1[\"year\"]==2022]\n"
   ]
  },
  {
   "cell_type": "code",
   "execution_count": 72,
   "id": "036840ce",
   "metadata": {},
   "outputs": [],
   "source": [
    "taxi1[\"isweekend\"]=np.where(taxi1[\"week_of_day\"].isin([5,6]),1,0 )"
   ]
  },
  {
   "cell_type": "code",
   "execution_count": 73,
   "id": "3cf21d03",
   "metadata": {},
   "outputs": [],
   "source": [
    "def day_cut(x):\n",
    "    if x<=10:\n",
    "        return \"starting_of_month\"\n",
    "    elif x >10 and x<=20:\n",
    "        return \"mid_of_month\"\n",
    "    else:\n",
    "        return \"End_of_month\"\n",
    "taxi1[\"day_cat\"]=taxi1[\"day\"].apply(lambda a : day_cut(a))"
   ]
  },
  {
   "cell_type": "code",
   "execution_count": 74,
   "id": "421c8ea8",
   "metadata": {},
   "outputs": [
    {
     "data": {
      "text/plain": [
       "starting_of_month    24393\n",
       "mid_of_month         23261\n",
       "End_of_month         22973\n",
       "Name: day_cat, dtype: int64"
      ]
     },
     "execution_count": 74,
     "metadata": {},
     "output_type": "execute_result"
    }
   ],
   "source": [
    "taxi1[\"day_cat\"].value_counts()"
   ]
  },
  {
   "cell_type": "code",
   "execution_count": 75,
   "id": "c43b22b7",
   "metadata": {},
   "outputs": [],
   "source": [
    "# taxi1[\"hours\"].value_counts()"
   ]
  },
  {
   "cell_type": "code",
   "execution_count": 78,
   "id": "22a866c7",
   "metadata": {},
   "outputs": [],
   "source": [
    "# early mor :4 - 8 \n",
    "# mor : 8-12\n",
    "# afternoon : 12 -16\n",
    "# even : 16-20\n",
    "# night : 20-24\n",
    "# mid night : 24 - 4"
   ]
  },
  {
   "cell_type": "code",
   "execution_count": 79,
   "id": "f8f2a850",
   "metadata": {},
   "outputs": [
    {
     "data": {
      "text/plain": [
       "dtype('int64')"
      ]
     },
     "execution_count": 79,
     "metadata": {},
     "output_type": "execute_result"
    }
   ],
   "source": [
    "taxi1[\"hours\"].dtypes"
   ]
  },
  {
   "cell_type": "code",
   "execution_count": 80,
   "id": "a30bdcc6",
   "metadata": {},
   "outputs": [],
   "source": [
    "def hour_category(x):\n",
    "    if x >=4 and x<8 :\n",
    "        return \"early_morning\"\n",
    "    elif x>=8 and x<12:\n",
    "        return \"morning\"\n",
    "    elif x>=12 and x<16:\n",
    "        return \"Afternoon\"\n",
    "    elif x>=16 and x<20:\n",
    "        return \"Evening\"\n",
    "    elif x>=20 and x<=24:\n",
    "        return \"night\"\n",
    "    elif x>=0 and x<4:\n",
    "        return \"midNight\"\n",
    "    else:\n",
    "        return \"Unkown\"\n",
    "taxi1[\"hours_cat\"]=taxi1[\"hours\"].apply(lambda a : hour_category(a))"
   ]
  },
  {
   "cell_type": "code",
   "execution_count": 81,
   "id": "c13ca526",
   "metadata": {},
   "outputs": [
    {
     "data": {
      "text/plain": [
       "Evening          18554\n",
       "Afternoon        16450\n",
       "night            14011\n",
       "morning          12794\n",
       "midNight          4824\n",
       "early_morning     3994\n",
       "Name: hours_cat, dtype: int64"
      ]
     },
     "execution_count": 81,
     "metadata": {},
     "output_type": "execute_result"
    }
   ],
   "source": [
    "taxi1[\"hours_cat\"].value_counts()"
   ]
  },
  {
   "cell_type": "code",
   "execution_count": 82,
   "id": "d5a780a7",
   "metadata": {},
   "outputs": [],
   "source": [
    "# taxi1[\"duration\"]=((taxi1[\"tpep_dropoff_datetime\"]-taxi1[\"tpep_pickup_datetime\"])*24).astype('timedelta64[h]')"
   ]
  },
  {
   "cell_type": "code",
   "execution_count": 83,
   "id": "d8852c5f",
   "metadata": {},
   "outputs": [],
   "source": [
    "taxi1[\"duration\"]=((taxi1[\"tpep_dropoff_datetime\"]-taxi1[\"tpep_pickup_datetime\"]))/pd.Timedelta(minutes=1)"
   ]
  },
  {
   "cell_type": "code",
   "execution_count": 84,
   "id": "595d68c8",
   "metadata": {},
   "outputs": [],
   "source": [
    "# taxi1[\"duration\"].min()"
   ]
  },
  {
   "cell_type": "code",
   "execution_count": 85,
   "id": "5feed8cf",
   "metadata": {},
   "outputs": [],
   "source": [
    "# taxi1[\"duration\"].max() "
   ]
  },
  {
   "cell_type": "code",
   "execution_count": 86,
   "id": "6eabcde0",
   "metadata": {},
   "outputs": [],
   "source": [
    "# sns.histplot(data=taxi1, x=\"duration\")"
   ]
  },
  {
   "cell_type": "code",
   "execution_count": 87,
   "id": "f6ec3748",
   "metadata": {},
   "outputs": [],
   "source": [
    "def duration_cat(x):\n",
    "    if x<15:\n",
    "        return \"duration_bt_0_15m\"\n",
    "    elif x>=15 and x<30:\n",
    "        return \"duration_bt_15_30m\"\n",
    "    elif x>=30 and x<60:\n",
    "        return \"duration_bt_30_60m\"\n",
    "    elif x>=60 and x<120:\n",
    "        return \"duration_bt_60_120m\"\n",
    "    else:\n",
    "        return \"duration_morethan_120m\"\n",
    "taxi1[\"duration_cat\"]=taxi1[\"duration\"].apply(lambda y: duration_cat(y))"
   ]
  },
  {
   "cell_type": "code",
   "execution_count": 88,
   "id": "2283f897",
   "metadata": {},
   "outputs": [
    {
     "data": {
      "text/plain": [
       "duration_bt_0_15m         41741\n",
       "duration_bt_15_30m        20678\n",
       "duration_bt_30_60m         6757\n",
       "duration_bt_60_120m        1350\n",
       "duration_morethan_120m      101\n",
       "Name: duration_cat, dtype: int64"
      ]
     },
     "execution_count": 88,
     "metadata": {},
     "output_type": "execute_result"
    }
   ],
   "source": [
    "taxi1[\"duration_cat\"].value_counts()"
   ]
  },
  {
   "cell_type": "code",
   "execution_count": 89,
   "id": "7e2c4840",
   "metadata": {},
   "outputs": [],
   "source": [
    "taxi1[\"airport_pick_up\"]=np.where(taxi1[\"airport_fee\"]==0,0,1)"
   ]
  },
  {
   "cell_type": "code",
   "execution_count": 90,
   "id": "d61ec5fe",
   "metadata": {},
   "outputs": [
    {
     "data": {
      "text/html": [
       "<div>\n",
       "<style scoped>\n",
       "    .dataframe tbody tr th:only-of-type {\n",
       "        vertical-align: middle;\n",
       "    }\n",
       "\n",
       "    .dataframe tbody tr th {\n",
       "        vertical-align: top;\n",
       "    }\n",
       "\n",
       "    .dataframe thead th {\n",
       "        text-align: right;\n",
       "    }\n",
       "</style>\n",
       "<table border=\"1\" class=\"dataframe\">\n",
       "  <thead>\n",
       "    <tr style=\"text-align: right;\">\n",
       "      <th></th>\n",
       "      <th>VendorID</th>\n",
       "      <th>tpep_pickup_datetime</th>\n",
       "      <th>tpep_dropoff_datetime</th>\n",
       "      <th>passenger_count</th>\n",
       "      <th>trip_distance</th>\n",
       "      <th>RatecodeID</th>\n",
       "      <th>store_and_fwd_flag</th>\n",
       "      <th>payment_type</th>\n",
       "      <th>fare_amount</th>\n",
       "      <th>extra</th>\n",
       "      <th>...</th>\n",
       "      <th>week_of_day</th>\n",
       "      <th>day</th>\n",
       "      <th>hours</th>\n",
       "      <th>minutes</th>\n",
       "      <th>isweekend</th>\n",
       "      <th>day_cat</th>\n",
       "      <th>hours_cat</th>\n",
       "      <th>duration</th>\n",
       "      <th>duration_cat</th>\n",
       "      <th>airport_pick_up</th>\n",
       "    </tr>\n",
       "  </thead>\n",
       "  <tbody>\n",
       "    <tr>\n",
       "      <th>11293</th>\n",
       "      <td>2</td>\n",
       "      <td>2022-06-01 08:48:20</td>\n",
       "      <td>2022-06-01 09:00:30</td>\n",
       "      <td>1.0</td>\n",
       "      <td>1.75</td>\n",
       "      <td>Standard_rate</td>\n",
       "      <td>N</td>\n",
       "      <td>Creidt_card</td>\n",
       "      <td>9.5</td>\n",
       "      <td>0.0</td>\n",
       "      <td>...</td>\n",
       "      <td>2</td>\n",
       "      <td>1</td>\n",
       "      <td>8</td>\n",
       "      <td>48</td>\n",
       "      <td>0</td>\n",
       "      <td>starting_of_month</td>\n",
       "      <td>morning</td>\n",
       "      <td>12.166667</td>\n",
       "      <td>duration_bt_0_15m</td>\n",
       "      <td>0</td>\n",
       "    </tr>\n",
       "    <tr>\n",
       "      <th>3241804</th>\n",
       "      <td>2</td>\n",
       "      <td>2022-06-29 12:30:59</td>\n",
       "      <td>2022-06-29 13:20:10</td>\n",
       "      <td>1.0</td>\n",
       "      <td>9.16</td>\n",
       "      <td>Standard_rate</td>\n",
       "      <td>N</td>\n",
       "      <td>Cash</td>\n",
       "      <td>36.0</td>\n",
       "      <td>0.0</td>\n",
       "      <td>...</td>\n",
       "      <td>2</td>\n",
       "      <td>29</td>\n",
       "      <td>12</td>\n",
       "      <td>30</td>\n",
       "      <td>0</td>\n",
       "      <td>End_of_month</td>\n",
       "      <td>Afternoon</td>\n",
       "      <td>49.183333</td>\n",
       "      <td>duration_bt_30_60m</td>\n",
       "      <td>0</td>\n",
       "    </tr>\n",
       "    <tr>\n",
       "      <th>2122208</th>\n",
       "      <td>1</td>\n",
       "      <td>2022-06-19 01:03:50</td>\n",
       "      <td>2022-06-19 01:27:44</td>\n",
       "      <td>1.0</td>\n",
       "      <td>5.00</td>\n",
       "      <td>Standard_rate</td>\n",
       "      <td>N</td>\n",
       "      <td>Creidt_card</td>\n",
       "      <td>20.0</td>\n",
       "      <td>3.0</td>\n",
       "      <td>...</td>\n",
       "      <td>6</td>\n",
       "      <td>19</td>\n",
       "      <td>1</td>\n",
       "      <td>3</td>\n",
       "      <td>1</td>\n",
       "      <td>mid_of_month</td>\n",
       "      <td>midNight</td>\n",
       "      <td>23.900000</td>\n",
       "      <td>duration_bt_15_30m</td>\n",
       "      <td>0</td>\n",
       "    </tr>\n",
       "    <tr>\n",
       "      <th>645015</th>\n",
       "      <td>2</td>\n",
       "      <td>2022-06-06 17:16:57</td>\n",
       "      <td>2022-06-06 17:35:51</td>\n",
       "      <td>1.0</td>\n",
       "      <td>3.02</td>\n",
       "      <td>Standard_rate</td>\n",
       "      <td>N</td>\n",
       "      <td>Creidt_card</td>\n",
       "      <td>13.5</td>\n",
       "      <td>1.0</td>\n",
       "      <td>...</td>\n",
       "      <td>0</td>\n",
       "      <td>6</td>\n",
       "      <td>17</td>\n",
       "      <td>16</td>\n",
       "      <td>0</td>\n",
       "      <td>starting_of_month</td>\n",
       "      <td>Evening</td>\n",
       "      <td>18.900000</td>\n",
       "      <td>duration_bt_15_30m</td>\n",
       "      <td>0</td>\n",
       "    </tr>\n",
       "    <tr>\n",
       "      <th>1752107</th>\n",
       "      <td>2</td>\n",
       "      <td>2022-06-15 22:09:34</td>\n",
       "      <td>2022-06-15 22:28:03</td>\n",
       "      <td>1.0</td>\n",
       "      <td>3.53</td>\n",
       "      <td>Standard_rate</td>\n",
       "      <td>N</td>\n",
       "      <td>Creidt_card</td>\n",
       "      <td>14.5</td>\n",
       "      <td>0.5</td>\n",
       "      <td>...</td>\n",
       "      <td>2</td>\n",
       "      <td>15</td>\n",
       "      <td>22</td>\n",
       "      <td>9</td>\n",
       "      <td>0</td>\n",
       "      <td>mid_of_month</td>\n",
       "      <td>night</td>\n",
       "      <td>18.483333</td>\n",
       "      <td>duration_bt_15_30m</td>\n",
       "      <td>0</td>\n",
       "    </tr>\n",
       "  </tbody>\n",
       "</table>\n",
       "<p>5 rows × 28 columns</p>\n",
       "</div>"
      ],
      "text/plain": [
       "        VendorID tpep_pickup_datetime tpep_dropoff_datetime  passenger_count  \\\n",
       "11293          2  2022-06-01 08:48:20   2022-06-01 09:00:30              1.0   \n",
       "3241804        2  2022-06-29 12:30:59   2022-06-29 13:20:10              1.0   \n",
       "2122208        1  2022-06-19 01:03:50   2022-06-19 01:27:44              1.0   \n",
       "645015         2  2022-06-06 17:16:57   2022-06-06 17:35:51              1.0   \n",
       "1752107        2  2022-06-15 22:09:34   2022-06-15 22:28:03              1.0   \n",
       "\n",
       "         trip_distance     RatecodeID store_and_fwd_flag payment_type  \\\n",
       "11293             1.75  Standard_rate                  N  Creidt_card   \n",
       "3241804           9.16  Standard_rate                  N         Cash   \n",
       "2122208           5.00  Standard_rate                  N  Creidt_card   \n",
       "645015            3.02  Standard_rate                  N  Creidt_card   \n",
       "1752107           3.53  Standard_rate                  N  Creidt_card   \n",
       "\n",
       "         fare_amount  extra  ...  week_of_day  day  hours  minutes  isweekend  \\\n",
       "11293            9.5    0.0  ...            2    1      8       48          0   \n",
       "3241804         36.0    0.0  ...            2   29     12       30          0   \n",
       "2122208         20.0    3.0  ...            6   19      1        3          1   \n",
       "645015          13.5    1.0  ...            0    6     17       16          0   \n",
       "1752107         14.5    0.5  ...            2   15     22        9          0   \n",
       "\n",
       "                   day_cat  hours_cat   duration        duration_cat  \\\n",
       "11293    starting_of_month    morning  12.166667   duration_bt_0_15m   \n",
       "3241804       End_of_month  Afternoon  49.183333  duration_bt_30_60m   \n",
       "2122208       mid_of_month   midNight  23.900000  duration_bt_15_30m   \n",
       "645015   starting_of_month    Evening  18.900000  duration_bt_15_30m   \n",
       "1752107       mid_of_month      night  18.483333  duration_bt_15_30m   \n",
       "\n",
       "         airport_pick_up  \n",
       "11293                  0  \n",
       "3241804                0  \n",
       "2122208                0  \n",
       "645015                 0  \n",
       "1752107                0  \n",
       "\n",
       "[5 rows x 28 columns]"
      ]
     },
     "execution_count": 90,
     "metadata": {},
     "output_type": "execute_result"
    }
   ],
   "source": [
    "taxi1.head() "
   ]
  },
  {
   "cell_type": "code",
   "execution_count": 91,
   "id": "6d58706c",
   "metadata": {},
   "outputs": [],
   "source": [
    "# taxi1['fare-bin'] = pd.cut(taxi1['total_amount'], bins = list(range(0, 100, 5)))\n",
    "# taxi1['fare-bin'].value_counts().plot.bar(color = 'b', edgecolor = 'r');\n",
    "# plt.title('Fare Binned')"
   ]
  },
  {
   "cell_type": "code",
   "execution_count": 92,
   "id": "da44d1e4",
   "metadata": {},
   "outputs": [],
   "source": [
    "def fare_cut(x):\n",
    "    if x<=10:\n",
    "        return \"(0, 10]\"\n",
    "    elif x>10 and x<=20:\n",
    "        return \"(10-20]\"\n",
    "    elif x>20 and x<=30:\n",
    "        return \"(20,30]\"\n",
    "    elif x>30 and x<=40:\n",
    "        return \"(30,40]\"\n",
    "    elif x>40 and x<=50:\n",
    "        return \"(40,50]\"\n",
    "    elif x>50 and x<=60:\n",
    "        return \"(50,60]\"\n",
    "    elif x>60 and x<=70:\n",
    "        return \"(60,70]\"\n",
    "    elif x>70 and x<=80:\n",
    "        return \"(70,80]\"\n",
    "    elif x>80 and x<=90:\n",
    "        return \"(80,90]\"\n",
    "    elif x>90 and x<=100:\n",
    "        return \"(90,100]\"\n",
    "    else:\n",
    "        return \"100+\"\n",
    "taxi1[\"fare_cat\"]=taxi1[\"total_amount\"].apply(lambda a : fare_cut(a))"
   ]
  },
  {
   "cell_type": "code",
   "execution_count": 93,
   "id": "b2360c98",
   "metadata": {},
   "outputs": [
    {
     "data": {
      "text/plain": [
       "<AxesSubplot:>"
      ]
     },
     "execution_count": 93,
     "metadata": {},
     "output_type": "execute_result"
    },
    {
     "data": {
      "image/png": "[encoded data removed]",
      "text/plain": [
       "<Figure size 432x288 with 1 Axes>"
      ]
     },
     "metadata": {
      "needs_background": "light"
     },
     "output_type": "display_data"
    }
   ],
   "source": [
    "taxi1[\"fare_cat\"].value_counts().plot(kind=\"bar\")"
   ]
  },
  {
   "cell_type": "markdown",
   "id": "7b9e4472",
   "metadata": {},
   "source": [
    "## missing value Treatment"
   ]
  },
  {
   "cell_type": "code",
   "execution_count": 94,
   "id": "19b7a097",
   "metadata": {},
   "outputs": [
    {
     "data": {
      "text/plain": [
       "VendorID                    0\n",
       "tpep_pickup_datetime        0\n",
       "tpep_dropoff_datetime       0\n",
       "passenger_count          2658\n",
       "trip_distance               0\n",
       "RatecodeID                  0\n",
       "store_and_fwd_flag          0\n",
       "payment_type                0\n",
       "fare_amount                 0\n",
       "extra                       0\n",
       "mta_tax                     0\n",
       "tip_amount                  0\n",
       "tolls_amount                0\n",
       "total_amount                0\n",
       "congestion_surcharge     2658\n",
       "airport_fee              2658\n",
       "month                       0\n",
       "year                        0\n",
       "week_of_day                 0\n",
       "day                         0\n",
       "hours                       0\n",
       "minutes                     0\n",
       "isweekend                   0\n",
       "day_cat                     0\n",
       "hours_cat                   0\n",
       "duration                    0\n",
       "duration_cat                0\n",
       "airport_pick_up             0\n",
       "fare_cat                    0\n",
       "dtype: int64"
      ]
     },
     "execution_count": 94,
     "metadata": {},
     "output_type": "execute_result"
    }
   ],
   "source": [
    "taxi1.isnull().sum()"
   ]
  },
  {
   "cell_type": "code",
   "execution_count": null,
   "id": "ab263860",
   "metadata": {},
   "outputs": [],
   "source": [
    "taxi1[\"tpep_pickup_datetime\"].dt.is_leap_year"
   ]
  },
  {
   "cell_type": "code",
   "execution_count": 95,
   "id": "59f5bab8",
   "metadata": {},
   "outputs": [],
   "source": [
    "temp0=taxi1[taxi1[\"passenger_count\"].isnull()]"
   ]
  },
  {
   "cell_type": "code",
   "execution_count": 96,
   "id": "a8a7be06",
   "metadata": {},
   "outputs": [
    {
     "data": {
      "text/plain": [
       "VendorID                    0\n",
       "tpep_pickup_datetime        0\n",
       "tpep_dropoff_datetime       0\n",
       "passenger_count          2658\n",
       "trip_distance               0\n",
       "RatecodeID                  0\n",
       "store_and_fwd_flag          0\n",
       "payment_type                0\n",
       "fare_amount                 0\n",
       "extra                       0\n",
       "mta_tax                     0\n",
       "tip_amount                  0\n",
       "tolls_amount                0\n",
       "total_amount                0\n",
       "congestion_surcharge     2658\n",
       "airport_fee              2658\n",
       "month                       0\n",
       "year                        0\n",
       "week_of_day                 0\n",
       "day                         0\n",
       "hours                       0\n",
       "minutes                     0\n",
       "isweekend                   0\n",
       "day_cat                     0\n",
       "hours_cat                   0\n",
       "duration                    0\n",
       "duration_cat                0\n",
       "airport_pick_up             0\n",
       "fare_cat                    0\n",
       "dtype: int64"
      ]
     },
     "execution_count": 96,
     "metadata": {},
     "output_type": "execute_result"
    }
   ],
   "source": [
    "temp0.isnull().sum()"
   ]
  },
  {
   "cell_type": "code",
   "execution_count": 97,
   "id": "febb8b59",
   "metadata": {},
   "outputs": [],
   "source": [
    "taxi2=taxi1.dropna()"
   ]
  },
  {
   "cell_type": "code",
   "execution_count": 98,
   "id": "9318b9fd",
   "metadata": {},
   "outputs": [
    {
     "data": {
      "text/plain": [
       "VendorID                 0\n",
       "tpep_pickup_datetime     0\n",
       "tpep_dropoff_datetime    0\n",
       "passenger_count          0\n",
       "trip_distance            0\n",
       "RatecodeID               0\n",
       "store_and_fwd_flag       0\n",
       "payment_type             0\n",
       "fare_amount              0\n",
       "extra                    0\n",
       "mta_tax                  0\n",
       "tip_amount               0\n",
       "tolls_amount             0\n",
       "total_amount             0\n",
       "congestion_surcharge     0\n",
       "airport_fee              0\n",
       "month                    0\n",
       "year                     0\n",
       "week_of_day              0\n",
       "day                      0\n",
       "hours                    0\n",
       "minutes                  0\n",
       "isweekend                0\n",
       "day_cat                  0\n",
       "hours_cat                0\n",
       "duration                 0\n",
       "duration_cat             0\n",
       "airport_pick_up          0\n",
       "fare_cat                 0\n",
       "dtype: int64"
      ]
     },
     "execution_count": 98,
     "metadata": {},
     "output_type": "execute_result"
    }
   ],
   "source": [
    "taxi2.isnull().sum()"
   ]
  },
  {
   "cell_type": "markdown",
   "id": "8ad57534",
   "metadata": {},
   "source": [
    "### Outliers"
   ]
  },
  {
   "cell_type": "code",
   "execution_count": 99,
   "id": "0acf8ea1",
   "metadata": {},
   "outputs": [
    {
     "data": {
      "text/html": [
       "<div>\n",
       "<style scoped>\n",
       "    .dataframe tbody tr th:only-of-type {\n",
       "        vertical-align: middle;\n",
       "    }\n",
       "\n",
       "    .dataframe tbody tr th {\n",
       "        vertical-align: top;\n",
       "    }\n",
       "\n",
       "    .dataframe thead th {\n",
       "        text-align: right;\n",
       "    }\n",
       "</style>\n",
       "<table border=\"1\" class=\"dataframe\">\n",
       "  <thead>\n",
       "    <tr style=\"text-align: right;\">\n",
       "      <th></th>\n",
       "      <th>count</th>\n",
       "      <th>mean</th>\n",
       "      <th>std</th>\n",
       "      <th>min</th>\n",
       "      <th>1%</th>\n",
       "      <th>2%</th>\n",
       "      <th>3%</th>\n",
       "      <th>4%</th>\n",
       "      <th>5%</th>\n",
       "      <th>25%</th>\n",
       "      <th>50%</th>\n",
       "      <th>75%</th>\n",
       "      <th>90%</th>\n",
       "      <th>95%</th>\n",
       "      <th>96%</th>\n",
       "      <th>97%</th>\n",
       "      <th>98%</th>\n",
       "      <th>99%</th>\n",
       "      <th>max</th>\n",
       "    </tr>\n",
       "  </thead>\n",
       "  <tbody>\n",
       "    <tr>\n",
       "      <th>passenger_count</th>\n",
       "      <td>67969.0</td>\n",
       "      <td>1.398682</td>\n",
       "      <td>0.959825</td>\n",
       "      <td>0.0</td>\n",
       "      <td>0.000000</td>\n",
       "      <td>1.000000</td>\n",
       "      <td>1.0</td>\n",
       "      <td>1.000000</td>\n",
       "      <td>1.000000</td>\n",
       "      <td>1.000000</td>\n",
       "      <td>1.000000</td>\n",
       "      <td>1.00</td>\n",
       "      <td>2.00</td>\n",
       "      <td>3.000000</td>\n",
       "      <td>4.0000</td>\n",
       "      <td>4.000000</td>\n",
       "      <td>5.000000</td>\n",
       "      <td>6.000</td>\n",
       "      <td>6.000000</td>\n",
       "    </tr>\n",
       "    <tr>\n",
       "      <th>trip_distance</th>\n",
       "      <td>67969.0</td>\n",
       "      <td>3.541137</td>\n",
       "      <td>4.782556</td>\n",
       "      <td>0.0</td>\n",
       "      <td>0.000000</td>\n",
       "      <td>0.250000</td>\n",
       "      <td>0.4</td>\n",
       "      <td>0.470000</td>\n",
       "      <td>0.510000</td>\n",
       "      <td>1.130000</td>\n",
       "      <td>1.900000</td>\n",
       "      <td>3.55</td>\n",
       "      <td>9.02</td>\n",
       "      <td>15.496000</td>\n",
       "      <td>17.0928</td>\n",
       "      <td>17.879600</td>\n",
       "      <td>18.680000</td>\n",
       "      <td>20.260</td>\n",
       "      <td>410.170000</td>\n",
       "    </tr>\n",
       "    <tr>\n",
       "      <th>fare_amount</th>\n",
       "      <td>67969.0</td>\n",
       "      <td>15.271000</td>\n",
       "      <td>48.398615</td>\n",
       "      <td>2.5</td>\n",
       "      <td>3.500000</td>\n",
       "      <td>4.000000</td>\n",
       "      <td>4.0</td>\n",
       "      <td>4.500000</td>\n",
       "      <td>4.500000</td>\n",
       "      <td>7.000000</td>\n",
       "      <td>10.500000</td>\n",
       "      <td>16.50</td>\n",
       "      <td>31.20</td>\n",
       "      <td>52.000000</td>\n",
       "      <td>52.0000</td>\n",
       "      <td>52.000000</td>\n",
       "      <td>52.000000</td>\n",
       "      <td>62.500</td>\n",
       "      <td>6977.000000</td>\n",
       "    </tr>\n",
       "    <tr>\n",
       "      <th>extra</th>\n",
       "      <td>67969.0</td>\n",
       "      <td>1.069702</td>\n",
       "      <td>1.263564</td>\n",
       "      <td>0.0</td>\n",
       "      <td>0.000000</td>\n",
       "      <td>0.000000</td>\n",
       "      <td>0.0</td>\n",
       "      <td>0.000000</td>\n",
       "      <td>0.000000</td>\n",
       "      <td>0.000000</td>\n",
       "      <td>0.500000</td>\n",
       "      <td>2.50</td>\n",
       "      <td>3.00</td>\n",
       "      <td>3.500000</td>\n",
       "      <td>3.5000</td>\n",
       "      <td>3.500000</td>\n",
       "      <td>3.500000</td>\n",
       "      <td>3.750</td>\n",
       "      <td>8.250000</td>\n",
       "    </tr>\n",
       "    <tr>\n",
       "      <th>mta_tax</th>\n",
       "      <td>67969.0</td>\n",
       "      <td>0.494910</td>\n",
       "      <td>0.052014</td>\n",
       "      <td>0.0</td>\n",
       "      <td>0.000000</td>\n",
       "      <td>0.500000</td>\n",
       "      <td>0.5</td>\n",
       "      <td>0.500000</td>\n",
       "      <td>0.500000</td>\n",
       "      <td>0.500000</td>\n",
       "      <td>0.500000</td>\n",
       "      <td>0.50</td>\n",
       "      <td>0.50</td>\n",
       "      <td>0.500000</td>\n",
       "      <td>0.5000</td>\n",
       "      <td>0.500000</td>\n",
       "      <td>0.500000</td>\n",
       "      <td>0.500</td>\n",
       "      <td>2.780000</td>\n",
       "    </tr>\n",
       "    <tr>\n",
       "      <th>tip_amount</th>\n",
       "      <td>67969.0</td>\n",
       "      <td>2.765738</td>\n",
       "      <td>3.209275</td>\n",
       "      <td>0.0</td>\n",
       "      <td>0.000000</td>\n",
       "      <td>0.000000</td>\n",
       "      <td>0.0</td>\n",
       "      <td>0.000000</td>\n",
       "      <td>0.000000</td>\n",
       "      <td>1.000000</td>\n",
       "      <td>2.160000</td>\n",
       "      <td>3.36</td>\n",
       "      <td>5.66</td>\n",
       "      <td>9.550000</td>\n",
       "      <td>10.2700</td>\n",
       "      <td>11.960000</td>\n",
       "      <td>12.620000</td>\n",
       "      <td>15.000</td>\n",
       "      <td>98.000000</td>\n",
       "    </tr>\n",
       "    <tr>\n",
       "      <th>tolls_amount</th>\n",
       "      <td>67969.0</td>\n",
       "      <td>0.562375</td>\n",
       "      <td>2.062867</td>\n",
       "      <td>0.0</td>\n",
       "      <td>0.000000</td>\n",
       "      <td>0.000000</td>\n",
       "      <td>0.0</td>\n",
       "      <td>0.000000</td>\n",
       "      <td>0.000000</td>\n",
       "      <td>0.000000</td>\n",
       "      <td>0.000000</td>\n",
       "      <td>0.00</td>\n",
       "      <td>0.00</td>\n",
       "      <td>6.550000</td>\n",
       "      <td>6.5500</td>\n",
       "      <td>6.550000</td>\n",
       "      <td>6.550000</td>\n",
       "      <td>6.550</td>\n",
       "      <td>52.000000</td>\n",
       "    </tr>\n",
       "    <tr>\n",
       "      <th>total_amount</th>\n",
       "      <td>67969.0</td>\n",
       "      <td>22.169266</td>\n",
       "      <td>49.525152</td>\n",
       "      <td>3.3</td>\n",
       "      <td>6.800000</td>\n",
       "      <td>7.800000</td>\n",
       "      <td>8.3</td>\n",
       "      <td>8.760000</td>\n",
       "      <td>8.800000</td>\n",
       "      <td>12.350000</td>\n",
       "      <td>15.960000</td>\n",
       "      <td>22.88</td>\n",
       "      <td>43.35</td>\n",
       "      <td>63.100000</td>\n",
       "      <td>67.8528</td>\n",
       "      <td>73.100000</td>\n",
       "      <td>75.720000</td>\n",
       "      <td>81.120</td>\n",
       "      <td>6981.300000</td>\n",
       "    </tr>\n",
       "    <tr>\n",
       "      <th>congestion_surcharge</th>\n",
       "      <td>67969.0</td>\n",
       "      <td>2.307670</td>\n",
       "      <td>0.666214</td>\n",
       "      <td>0.0</td>\n",
       "      <td>0.000000</td>\n",
       "      <td>0.000000</td>\n",
       "      <td>0.0</td>\n",
       "      <td>0.000000</td>\n",
       "      <td>0.000000</td>\n",
       "      <td>2.500000</td>\n",
       "      <td>2.500000</td>\n",
       "      <td>2.50</td>\n",
       "      <td>2.50</td>\n",
       "      <td>2.500000</td>\n",
       "      <td>2.5000</td>\n",
       "      <td>2.500000</td>\n",
       "      <td>2.500000</td>\n",
       "      <td>2.500</td>\n",
       "      <td>2.500000</td>\n",
       "    </tr>\n",
       "    <tr>\n",
       "      <th>airport_fee</th>\n",
       "      <td>67969.0</td>\n",
       "      <td>0.097361</td>\n",
       "      <td>0.334997</td>\n",
       "      <td>0.0</td>\n",
       "      <td>0.000000</td>\n",
       "      <td>0.000000</td>\n",
       "      <td>0.0</td>\n",
       "      <td>0.000000</td>\n",
       "      <td>0.000000</td>\n",
       "      <td>0.000000</td>\n",
       "      <td>0.000000</td>\n",
       "      <td>0.00</td>\n",
       "      <td>0.00</td>\n",
       "      <td>1.250000</td>\n",
       "      <td>1.2500</td>\n",
       "      <td>1.250000</td>\n",
       "      <td>1.250000</td>\n",
       "      <td>1.250</td>\n",
       "      <td>1.250000</td>\n",
       "    </tr>\n",
       "    <tr>\n",
       "      <th>month</th>\n",
       "      <td>67969.0</td>\n",
       "      <td>6.000000</td>\n",
       "      <td>0.000000</td>\n",
       "      <td>6.0</td>\n",
       "      <td>6.000000</td>\n",
       "      <td>6.000000</td>\n",
       "      <td>6.0</td>\n",
       "      <td>6.000000</td>\n",
       "      <td>6.000000</td>\n",
       "      <td>6.000000</td>\n",
       "      <td>6.000000</td>\n",
       "      <td>6.00</td>\n",
       "      <td>6.00</td>\n",
       "      <td>6.000000</td>\n",
       "      <td>6.0000</td>\n",
       "      <td>6.000000</td>\n",
       "      <td>6.000000</td>\n",
       "      <td>6.000</td>\n",
       "      <td>6.000000</td>\n",
       "    </tr>\n",
       "    <tr>\n",
       "      <th>year</th>\n",
       "      <td>67969.0</td>\n",
       "      <td>2022.000000</td>\n",
       "      <td>0.000000</td>\n",
       "      <td>2022.0</td>\n",
       "      <td>2022.000000</td>\n",
       "      <td>2022.000000</td>\n",
       "      <td>2022.0</td>\n",
       "      <td>2022.000000</td>\n",
       "      <td>2022.000000</td>\n",
       "      <td>2022.000000</td>\n",
       "      <td>2022.000000</td>\n",
       "      <td>2022.00</td>\n",
       "      <td>2022.00</td>\n",
       "      <td>2022.000000</td>\n",
       "      <td>2022.0000</td>\n",
       "      <td>2022.000000</td>\n",
       "      <td>2022.000000</td>\n",
       "      <td>2022.000</td>\n",
       "      <td>2022.000000</td>\n",
       "    </tr>\n",
       "    <tr>\n",
       "      <th>week_of_day</th>\n",
       "      <td>67969.0</td>\n",
       "      <td>2.936912</td>\n",
       "      <td>1.863506</td>\n",
       "      <td>0.0</td>\n",
       "      <td>0.000000</td>\n",
       "      <td>0.000000</td>\n",
       "      <td>0.0</td>\n",
       "      <td>0.000000</td>\n",
       "      <td>0.000000</td>\n",
       "      <td>1.000000</td>\n",
       "      <td>3.000000</td>\n",
       "      <td>4.00</td>\n",
       "      <td>6.00</td>\n",
       "      <td>6.000000</td>\n",
       "      <td>6.0000</td>\n",
       "      <td>6.000000</td>\n",
       "      <td>6.000000</td>\n",
       "      <td>6.000</td>\n",
       "      <td>6.000000</td>\n",
       "    </tr>\n",
       "    <tr>\n",
       "      <th>day</th>\n",
       "      <td>67969.0</td>\n",
       "      <td>15.241846</td>\n",
       "      <td>8.632825</td>\n",
       "      <td>1.0</td>\n",
       "      <td>1.000000</td>\n",
       "      <td>1.000000</td>\n",
       "      <td>1.0</td>\n",
       "      <td>2.000000</td>\n",
       "      <td>2.000000</td>\n",
       "      <td>8.000000</td>\n",
       "      <td>15.000000</td>\n",
       "      <td>23.00</td>\n",
       "      <td>27.00</td>\n",
       "      <td>29.000000</td>\n",
       "      <td>29.0000</td>\n",
       "      <td>30.000000</td>\n",
       "      <td>30.000000</td>\n",
       "      <td>30.000</td>\n",
       "      <td>30.000000</td>\n",
       "    </tr>\n",
       "    <tr>\n",
       "      <th>hours</th>\n",
       "      <td>67969.0</td>\n",
       "      <td>14.199194</td>\n",
       "      <td>5.788724</td>\n",
       "      <td>0.0</td>\n",
       "      <td>0.000000</td>\n",
       "      <td>0.000000</td>\n",
       "      <td>1.0</td>\n",
       "      <td>1.000000</td>\n",
       "      <td>2.000000</td>\n",
       "      <td>10.000000</td>\n",
       "      <td>15.000000</td>\n",
       "      <td>19.00</td>\n",
       "      <td>21.00</td>\n",
       "      <td>22.000000</td>\n",
       "      <td>23.0000</td>\n",
       "      <td>23.000000</td>\n",
       "      <td>23.000000</td>\n",
       "      <td>23.000</td>\n",
       "      <td>23.000000</td>\n",
       "    </tr>\n",
       "    <tr>\n",
       "      <th>minutes</th>\n",
       "      <td>67969.0</td>\n",
       "      <td>29.617973</td>\n",
       "      <td>17.318711</td>\n",
       "      <td>0.0</td>\n",
       "      <td>0.000000</td>\n",
       "      <td>1.000000</td>\n",
       "      <td>1.0</td>\n",
       "      <td>2.000000</td>\n",
       "      <td>3.000000</td>\n",
       "      <td>15.000000</td>\n",
       "      <td>30.000000</td>\n",
       "      <td>45.00</td>\n",
       "      <td>54.00</td>\n",
       "      <td>56.000000</td>\n",
       "      <td>57.0000</td>\n",
       "      <td>58.000000</td>\n",
       "      <td>58.000000</td>\n",
       "      <td>59.000</td>\n",
       "      <td>59.000000</td>\n",
       "    </tr>\n",
       "    <tr>\n",
       "      <th>isweekend</th>\n",
       "      <td>67969.0</td>\n",
       "      <td>0.243920</td>\n",
       "      <td>0.429448</td>\n",
       "      <td>0.0</td>\n",
       "      <td>0.000000</td>\n",
       "      <td>0.000000</td>\n",
       "      <td>0.0</td>\n",
       "      <td>0.000000</td>\n",
       "      <td>0.000000</td>\n",
       "      <td>0.000000</td>\n",
       "      <td>0.000000</td>\n",
       "      <td>0.00</td>\n",
       "      <td>1.00</td>\n",
       "      <td>1.000000</td>\n",
       "      <td>1.0000</td>\n",
       "      <td>1.000000</td>\n",
       "      <td>1.000000</td>\n",
       "      <td>1.000</td>\n",
       "      <td>1.000000</td>\n",
       "    </tr>\n",
       "    <tr>\n",
       "      <th>duration</th>\n",
       "      <td>67969.0</td>\n",
       "      <td>17.973287</td>\n",
       "      <td>50.867526</td>\n",
       "      <td>0.0</td>\n",
       "      <td>0.366667</td>\n",
       "      <td>1.916667</td>\n",
       "      <td>2.6</td>\n",
       "      <td>3.033333</td>\n",
       "      <td>3.416667</td>\n",
       "      <td>7.616667</td>\n",
       "      <td>12.533333</td>\n",
       "      <td>20.20</td>\n",
       "      <td>32.00</td>\n",
       "      <td>43.666667</td>\n",
       "      <td>47.7000</td>\n",
       "      <td>52.766667</td>\n",
       "      <td>59.916667</td>\n",
       "      <td>71.472</td>\n",
       "      <td>1439.416667</td>\n",
       "    </tr>\n",
       "    <tr>\n",
       "      <th>airport_pick_up</th>\n",
       "      <td>67969.0</td>\n",
       "      <td>0.077888</td>\n",
       "      <td>0.267998</td>\n",
       "      <td>0.0</td>\n",
       "      <td>0.000000</td>\n",
       "      <td>0.000000</td>\n",
       "      <td>0.0</td>\n",
       "      <td>0.000000</td>\n",
       "      <td>0.000000</td>\n",
       "      <td>0.000000</td>\n",
       "      <td>0.000000</td>\n",
       "      <td>0.00</td>\n",
       "      <td>0.00</td>\n",
       "      <td>1.000000</td>\n",
       "      <td>1.0000</td>\n",
       "      <td>1.000000</td>\n",
       "      <td>1.000000</td>\n",
       "      <td>1.000</td>\n",
       "      <td>1.000000</td>\n",
       "    </tr>\n",
       "  </tbody>\n",
       "</table>\n",
       "</div>"
      ],
      "text/plain": [
       "                        count         mean        std     min           1%  \\\n",
       "passenger_count       67969.0     1.398682   0.959825     0.0     0.000000   \n",
       "trip_distance         67969.0     3.541137   4.782556     0.0     0.000000   \n",
       "fare_amount           67969.0    15.271000  48.398615     2.5     3.500000   \n",
       "extra                 67969.0     1.069702   1.263564     0.0     0.000000   \n",
       "mta_tax               67969.0     0.494910   0.052014     0.0     0.000000   \n",
       "tip_amount            67969.0     2.765738   3.209275     0.0     0.000000   \n",
       "tolls_amount          67969.0     0.562375   2.062867     0.0     0.000000   \n",
       "total_amount          67969.0    22.169266  49.525152     3.3     6.800000   \n",
       "congestion_surcharge  67969.0     2.307670   0.666214     0.0     0.000000   \n",
       "airport_fee           67969.0     0.097361   0.334997     0.0     0.000000   \n",
       "month                 67969.0     6.000000   0.000000     6.0     6.000000   \n",
       "year                  67969.0  2022.000000   0.000000  2022.0  2022.000000   \n",
       "week_of_day           67969.0     2.936912   1.863506     0.0     0.000000   \n",
       "day                   67969.0    15.241846   8.632825     1.0     1.000000   \n",
       "hours                 67969.0    14.199194   5.788724     0.0     0.000000   \n",
       "minutes               67969.0    29.617973  17.318711     0.0     0.000000   \n",
       "isweekend             67969.0     0.243920   0.429448     0.0     0.000000   \n",
       "duration              67969.0    17.973287  50.867526     0.0     0.366667   \n",
       "airport_pick_up       67969.0     0.077888   0.267998     0.0     0.000000   \n",
       "\n",
       "                               2%      3%           4%           5%  \\\n",
       "passenger_count          1.000000     1.0     1.000000     1.000000   \n",
       "trip_distance            0.250000     0.4     0.470000     0.510000   \n",
       "fare_amount              4.000000     4.0     4.500000     4.500000   \n",
       "extra                    0.000000     0.0     0.000000     0.000000   \n",
       "mta_tax                  0.500000     0.5     0.500000     0.500000   \n",
       "tip_amount               0.000000     0.0     0.000000     0.000000   \n",
       "tolls_amount             0.000000     0.0     0.000000     0.000000   \n",
       "total_amount             7.800000     8.3     8.760000     8.800000   \n",
       "congestion_surcharge     0.000000     0.0     0.000000     0.000000   \n",
       "airport_fee              0.000000     0.0     0.000000     0.000000   \n",
       "month                    6.000000     6.0     6.000000     6.000000   \n",
       "year                  2022.000000  2022.0  2022.000000  2022.000000   \n",
       "week_of_day              0.000000     0.0     0.000000     0.000000   \n",
       "day                      1.000000     1.0     2.000000     2.000000   \n",
       "hours                    0.000000     1.0     1.000000     2.000000   \n",
       "minutes                  1.000000     1.0     2.000000     3.000000   \n",
       "isweekend                0.000000     0.0     0.000000     0.000000   \n",
       "duration                 1.916667     2.6     3.033333     3.416667   \n",
       "airport_pick_up          0.000000     0.0     0.000000     0.000000   \n",
       "\n",
       "                              25%          50%      75%      90%          95%  \\\n",
       "passenger_count          1.000000     1.000000     1.00     2.00     3.000000   \n",
       "trip_distance            1.130000     1.900000     3.55     9.02    15.496000   \n",
       "fare_amount              7.000000    10.500000    16.50    31.20    52.000000   \n",
       "extra                    0.000000     0.500000     2.50     3.00     3.500000   \n",
       "mta_tax                  0.500000     0.500000     0.50     0.50     0.500000   \n",
       "tip_amount               1.000000     2.160000     3.36     5.66     9.550000   \n",
       "tolls_amount             0.000000     0.000000     0.00     0.00     6.550000   \n",
       "total_amount            12.350000    15.960000    22.88    43.35    63.100000   \n",
       "congestion_surcharge     2.500000     2.500000     2.50     2.50     2.500000   \n",
       "airport_fee              0.000000     0.000000     0.00     0.00     1.250000   \n",
       "month                    6.000000     6.000000     6.00     6.00     6.000000   \n",
       "year                  2022.000000  2022.000000  2022.00  2022.00  2022.000000   \n",
       "week_of_day              1.000000     3.000000     4.00     6.00     6.000000   \n",
       "day                      8.000000    15.000000    23.00    27.00    29.000000   \n",
       "hours                   10.000000    15.000000    19.00    21.00    22.000000   \n",
       "minutes                 15.000000    30.000000    45.00    54.00    56.000000   \n",
       "isweekend                0.000000     0.000000     0.00     1.00     1.000000   \n",
       "duration                 7.616667    12.533333    20.20    32.00    43.666667   \n",
       "airport_pick_up          0.000000     0.000000     0.00     0.00     1.000000   \n",
       "\n",
       "                            96%          97%          98%       99%  \\\n",
       "passenger_count          4.0000     4.000000     5.000000     6.000   \n",
       "trip_distance           17.0928    17.879600    18.680000    20.260   \n",
       "fare_amount             52.0000    52.000000    52.000000    62.500   \n",
       "extra                    3.5000     3.500000     3.500000     3.750   \n",
       "mta_tax                  0.5000     0.500000     0.500000     0.500   \n",
       "tip_amount              10.2700    11.960000    12.620000    15.000   \n",
       "tolls_amount             6.5500     6.550000     6.550000     6.550   \n",
       "total_amount            67.8528    73.100000    75.720000    81.120   \n",
       "congestion_surcharge     2.5000     2.500000     2.500000     2.500   \n",
       "airport_fee              1.2500     1.250000     1.250000     1.250   \n",
       "month                    6.0000     6.000000     6.000000     6.000   \n",
       "year                  2022.0000  2022.000000  2022.000000  2022.000   \n",
       "week_of_day              6.0000     6.000000     6.000000     6.000   \n",
       "day                     29.0000    30.000000    30.000000    30.000   \n",
       "hours                   23.0000    23.000000    23.000000    23.000   \n",
       "minutes                 57.0000    58.000000    58.000000    59.000   \n",
       "isweekend                1.0000     1.000000     1.000000     1.000   \n",
       "duration                47.7000    52.766667    59.916667    71.472   \n",
       "airport_pick_up          1.0000     1.000000     1.000000     1.000   \n",
       "\n",
       "                              max  \n",
       "passenger_count          6.000000  \n",
       "trip_distance          410.170000  \n",
       "fare_amount           6977.000000  \n",
       "extra                    8.250000  \n",
       "mta_tax                  2.780000  \n",
       "tip_amount              98.000000  \n",
       "tolls_amount            52.000000  \n",
       "total_amount          6981.300000  \n",
       "congestion_surcharge     2.500000  \n",
       "airport_fee              1.250000  \n",
       "month                    6.000000  \n",
       "year                  2022.000000  \n",
       "week_of_day              6.000000  \n",
       "day                     30.000000  \n",
       "hours                   23.000000  \n",
       "minutes                 59.000000  \n",
       "isweekend                1.000000  \n",
       "duration              1439.416667  \n",
       "airport_pick_up          1.000000  "
      ]
     },
     "execution_count": 99,
     "metadata": {},
     "output_type": "execute_result"
    }
   ],
   "source": [
    "taxi2.describe(percentiles=[.01,.02,.03,.04,.05,.25,.5,.75,.9,.95,.96,.97,.98,.99]).T"
   ]
  },
  {
   "cell_type": "code",
   "execution_count": 100,
   "id": "32671d29",
   "metadata": {},
   "outputs": [
    {
     "data": {
      "text/plain": [
       "Index(['VendorID', 'tpep_pickup_datetime', 'tpep_dropoff_datetime',\n",
       "       'passenger_count', 'trip_distance', 'RatecodeID', 'store_and_fwd_flag',\n",
       "       'payment_type', 'fare_amount', 'extra', 'mta_tax', 'tip_amount',\n",
       "       'tolls_amount', 'total_amount', 'congestion_surcharge', 'airport_fee',\n",
       "       'month', 'year', 'week_of_day', 'day', 'hours', 'minutes', 'isweekend',\n",
       "       'day_cat', 'hours_cat', 'duration', 'duration_cat', 'airport_pick_up',\n",
       "       'fare_cat'],\n",
       "      dtype='object')"
      ]
     },
     "execution_count": 100,
     "metadata": {},
     "output_type": "execute_result"
    }
   ],
   "source": [
    "taxi2.columns"
   ]
  },
  {
   "cell_type": "code",
   "execution_count": 101,
   "id": "b1584686",
   "metadata": {},
   "outputs": [
    {
     "name": "stderr",
     "output_type": "stream",
     "text": [
      "C:\\Users\\Archit\\AppData\\Local\\Temp/ipykernel_18208/1635395133.py:1: SettingWithCopyWarning: \n",
      "A value is trying to be set on a copy of a slice from a DataFrame\n",
      "\n",
      "See the caveats in the documentation: https://pandas.pydata.org/pandas-docs/stable/user_guide/indexing.html#returning-a-view-versus-a-copy\n",
      "  taxi2.drop(columns=['tpep_pickup_datetime', 'tpep_dropoff_datetime'], inplace=True)\n"
     ]
    }
   ],
   "source": [
    "taxi2.drop(columns=['tpep_pickup_datetime', 'tpep_dropoff_datetime'], inplace=True)"
   ]
  },
  {
   "cell_type": "code",
   "execution_count": 102,
   "id": "41e28844",
   "metadata": {},
   "outputs": [],
   "source": [
    "obj_var=taxi2.dtypes[taxi2.dtypes==\"object\"].index\n",
    "num_var=taxi2.dtypes[taxi2.dtypes!=\"object\"].index"
   ]
  },
  {
   "cell_type": "code",
   "execution_count": 103,
   "id": "26a23dd4",
   "metadata": {},
   "outputs": [],
   "source": [
    "taxi_num=taxi2[num_var]\n",
    "taxi_obj=taxi2[obj_var]"
   ]
  },
  {
   "cell_type": "code",
   "execution_count": 104,
   "id": "f3beb4c3",
   "metadata": {},
   "outputs": [],
   "source": [
    "# taxi_num"
   ]
  },
  {
   "cell_type": "code",
   "execution_count": 106,
   "id": "31c51e0a",
   "metadata": {},
   "outputs": [],
   "source": [
    "def outliers(x):\n",
    "    x=x.clip(upper=x.quantile(.99))\n",
    "    x=x.clip(lower=x.quantile(.01))\n",
    "    return x\n",
    "taxi_num=taxi_num.apply(lambda a: outliers(a))"
   ]
  },
  {
   "cell_type": "code",
   "execution_count": 107,
   "id": "9f04a764",
   "metadata": {},
   "outputs": [],
   "source": [
    "taxi_final=pd.concat([taxi_num,taxi_obj ], axis=1)"
   ]
  },
  {
   "cell_type": "markdown",
   "id": "98ef243f",
   "metadata": {},
   "source": [
    "### Multicollinearity"
   ]
  },
  {
   "cell_type": "code",
   "execution_count": 111,
   "id": "0c933242",
   "metadata": {},
   "outputs": [],
   "source": [
    "taxi_final.drop(columns=[\"month\", \"year\", \"fare_amount\"], inplace=True)"
   ]
  },
  {
   "cell_type": "code",
   "execution_count": 113,
   "id": "9c9a3bcf",
   "metadata": {},
   "outputs": [
    {
     "data": {
      "text/plain": [
       "<AxesSubplot:>"
      ]
     },
     "execution_count": 113,
     "metadata": {},
     "output_type": "execute_result"
    },
    {
     "data": {
      "image/png": "[encoded data removed]",
      "text/plain": [
       "<Figure size 792x432 with 2 Axes>"
      ]
     },
     "metadata": {
      "needs_background": "light"
     },
     "output_type": "display_data"
    }
   ],
   "source": [
    "cr=taxi_final.corr()\n",
    "cr=cr[abs(cr)>.7]\n",
    "plt.figure(figsize=(11,6))\n",
    "sns.heatmap(cr, annot=True, cmap=\"coolwarm\")"
   ]
  },
  {
   "cell_type": "code",
   "execution_count": 114,
   "id": "9b157dda",
   "metadata": {},
   "outputs": [],
   "source": [
    "taxi_final.drop(columns=[\"airport_fee\", \"week_of_day\"], inplace=True)"
   ]
  },
  {
   "cell_type": "code",
   "execution_count": 117,
   "id": "08633c2c",
   "metadata": {},
   "outputs": [
    {
     "data": {
      "text/plain": [
       "Index(['passenger_count', 'trip_distance', 'extra', 'mta_tax', 'tip_amount',\n",
       "       'tolls_amount', 'total_amount', 'congestion_surcharge', 'day', 'hours',\n",
       "       'minutes', 'isweekend', 'duration', 'airport_pick_up', 'VendorID',\n",
       "       'RatecodeID', 'store_and_fwd_flag', 'payment_type', 'day_cat',\n",
       "       'hours_cat', 'duration_cat', 'fare_cat'],\n",
       "      dtype='object')"
      ]
     },
     "execution_count": 117,
     "metadata": {},
     "output_type": "execute_result"
    }
   ],
   "source": [
    "taxi_final.columns"
   ]
  },
  {
   "cell_type": "code",
   "execution_count": 118,
   "id": "8a567976",
   "metadata": {},
   "outputs": [],
   "source": [
    "taxi_final.drop(columns=[\"fare_cat\"], inplace=True)"
   ]
  },
  {
   "cell_type": "markdown",
   "id": "84db939b",
   "metadata": {},
   "source": [
    "### Dummy creation "
   ]
  },
  {
   "cell_type": "code",
   "execution_count": 119,
   "id": "23eafd36",
   "metadata": {},
   "outputs": [
    {
     "name": "stderr",
     "output_type": "stream",
     "text": [
      "C:\\Users\\Archit\\anaconda3\\lib\\site-packages\\pandas\\core\\algorithms.py:798: FutureWarning: In a future version, the Index constructor will not infer numeric dtypes when passed object-dtype sequences (matching Series behavior)\n",
      "  uniques = Index(uniques)\n"
     ]
    }
   ],
   "source": [
    "final=pd.get_dummies(data=taxi_final, drop_first=True)"
   ]
  },
  {
   "cell_type": "code",
   "execution_count": 120,
   "id": "f7d63e47",
   "metadata": {},
   "outputs": [
    {
     "data": {
      "text/html": [
       "<div>\n",
       "<style scoped>\n",
       "    .dataframe tbody tr th:only-of-type {\n",
       "        vertical-align: middle;\n",
       "    }\n",
       "\n",
       "    .dataframe tbody tr th {\n",
       "        vertical-align: top;\n",
       "    }\n",
       "\n",
       "    .dataframe thead th {\n",
       "        text-align: right;\n",
       "    }\n",
       "</style>\n",
       "<table border=\"1\" class=\"dataframe\">\n",
       "  <thead>\n",
       "    <tr style=\"text-align: right;\">\n",
       "      <th></th>\n",
       "      <th>passenger_count</th>\n",
       "      <th>trip_distance</th>\n",
       "      <th>extra</th>\n",
       "      <th>mta_tax</th>\n",
       "      <th>tip_amount</th>\n",
       "      <th>tolls_amount</th>\n",
       "      <th>total_amount</th>\n",
       "      <th>congestion_surcharge</th>\n",
       "      <th>day</th>\n",
       "      <th>hours</th>\n",
       "      <th>...</th>\n",
       "      <th>day_cat_starting_of_month</th>\n",
       "      <th>hours_cat_Evening</th>\n",
       "      <th>hours_cat_early_morning</th>\n",
       "      <th>hours_cat_midNight</th>\n",
       "      <th>hours_cat_morning</th>\n",
       "      <th>hours_cat_night</th>\n",
       "      <th>duration_cat_duration_bt_15_30m</th>\n",
       "      <th>duration_cat_duration_bt_30_60m</th>\n",
       "      <th>duration_cat_duration_bt_60_120m</th>\n",
       "      <th>duration_cat_duration_morethan_120m</th>\n",
       "    </tr>\n",
       "  </thead>\n",
       "  <tbody>\n",
       "    <tr>\n",
       "      <th>11293</th>\n",
       "      <td>1.0</td>\n",
       "      <td>1.75</td>\n",
       "      <td>0.0</td>\n",
       "      <td>0.5</td>\n",
       "      <td>2.00</td>\n",
       "      <td>0.0</td>\n",
       "      <td>14.80</td>\n",
       "      <td>2.5</td>\n",
       "      <td>1</td>\n",
       "      <td>8</td>\n",
       "      <td>...</td>\n",
       "      <td>1</td>\n",
       "      <td>0</td>\n",
       "      <td>0</td>\n",
       "      <td>0</td>\n",
       "      <td>1</td>\n",
       "      <td>0</td>\n",
       "      <td>0</td>\n",
       "      <td>0</td>\n",
       "      <td>0</td>\n",
       "      <td>0</td>\n",
       "    </tr>\n",
       "    <tr>\n",
       "      <th>3241804</th>\n",
       "      <td>1.0</td>\n",
       "      <td>9.16</td>\n",
       "      <td>0.0</td>\n",
       "      <td>0.5</td>\n",
       "      <td>0.00</td>\n",
       "      <td>0.0</td>\n",
       "      <td>39.30</td>\n",
       "      <td>2.5</td>\n",
       "      <td>29</td>\n",
       "      <td>12</td>\n",
       "      <td>...</td>\n",
       "      <td>0</td>\n",
       "      <td>0</td>\n",
       "      <td>0</td>\n",
       "      <td>0</td>\n",
       "      <td>0</td>\n",
       "      <td>0</td>\n",
       "      <td>0</td>\n",
       "      <td>1</td>\n",
       "      <td>0</td>\n",
       "      <td>0</td>\n",
       "    </tr>\n",
       "    <tr>\n",
       "      <th>2122208</th>\n",
       "      <td>1.0</td>\n",
       "      <td>5.00</td>\n",
       "      <td>3.0</td>\n",
       "      <td>0.5</td>\n",
       "      <td>2.00</td>\n",
       "      <td>0.0</td>\n",
       "      <td>25.80</td>\n",
       "      <td>2.5</td>\n",
       "      <td>19</td>\n",
       "      <td>1</td>\n",
       "      <td>...</td>\n",
       "      <td>0</td>\n",
       "      <td>0</td>\n",
       "      <td>0</td>\n",
       "      <td>1</td>\n",
       "      <td>0</td>\n",
       "      <td>0</td>\n",
       "      <td>1</td>\n",
       "      <td>0</td>\n",
       "      <td>0</td>\n",
       "      <td>0</td>\n",
       "    </tr>\n",
       "    <tr>\n",
       "      <th>645015</th>\n",
       "      <td>1.0</td>\n",
       "      <td>3.02</td>\n",
       "      <td>1.0</td>\n",
       "      <td>0.5</td>\n",
       "      <td>1.78</td>\n",
       "      <td>0.0</td>\n",
       "      <td>19.58</td>\n",
       "      <td>2.5</td>\n",
       "      <td>6</td>\n",
       "      <td>17</td>\n",
       "      <td>...</td>\n",
       "      <td>1</td>\n",
       "      <td>1</td>\n",
       "      <td>0</td>\n",
       "      <td>0</td>\n",
       "      <td>0</td>\n",
       "      <td>0</td>\n",
       "      <td>1</td>\n",
       "      <td>0</td>\n",
       "      <td>0</td>\n",
       "      <td>0</td>\n",
       "    </tr>\n",
       "    <tr>\n",
       "      <th>1752107</th>\n",
       "      <td>1.0</td>\n",
       "      <td>3.53</td>\n",
       "      <td>0.5</td>\n",
       "      <td>0.5</td>\n",
       "      <td>2.74</td>\n",
       "      <td>0.0</td>\n",
       "      <td>21.04</td>\n",
       "      <td>2.5</td>\n",
       "      <td>15</td>\n",
       "      <td>22</td>\n",
       "      <td>...</td>\n",
       "      <td>0</td>\n",
       "      <td>0</td>\n",
       "      <td>0</td>\n",
       "      <td>0</td>\n",
       "      <td>0</td>\n",
       "      <td>1</td>\n",
       "      <td>1</td>\n",
       "      <td>0</td>\n",
       "      <td>0</td>\n",
       "      <td>0</td>\n",
       "    </tr>\n",
       "  </tbody>\n",
       "</table>\n",
       "<p>5 rows × 35 columns</p>\n",
       "</div>"
      ],
      "text/plain": [
       "         passenger_count  trip_distance  extra  mta_tax  tip_amount  \\\n",
       "11293                1.0           1.75    0.0      0.5        2.00   \n",
       "3241804              1.0           9.16    0.0      0.5        0.00   \n",
       "2122208              1.0           5.00    3.0      0.5        2.00   \n",
       "645015               1.0           3.02    1.0      0.5        1.78   \n",
       "1752107              1.0           3.53    0.5      0.5        2.74   \n",
       "\n",
       "         tolls_amount  total_amount  congestion_surcharge  day  hours  ...  \\\n",
       "11293             0.0         14.80                   2.5    1      8  ...   \n",
       "3241804           0.0         39.30                   2.5   29     12  ...   \n",
       "2122208           0.0         25.80                   2.5   19      1  ...   \n",
       "645015            0.0         19.58                   2.5    6     17  ...   \n",
       "1752107           0.0         21.04                   2.5   15     22  ...   \n",
       "\n",
       "         day_cat_starting_of_month  hours_cat_Evening  \\\n",
       "11293                            1                  0   \n",
       "3241804                          0                  0   \n",
       "2122208                          0                  0   \n",
       "645015                           1                  1   \n",
       "1752107                          0                  0   \n",
       "\n",
       "         hours_cat_early_morning  hours_cat_midNight  hours_cat_morning  \\\n",
       "11293                          0                   0                  1   \n",
       "3241804                        0                   0                  0   \n",
       "2122208                        0                   1                  0   \n",
       "645015                         0                   0                  0   \n",
       "1752107                        0                   0                  0   \n",
       "\n",
       "         hours_cat_night  duration_cat_duration_bt_15_30m  \\\n",
       "11293                  0                                0   \n",
       "3241804                0                                0   \n",
       "2122208                0                                1   \n",
       "645015                 0                                1   \n",
       "1752107                1                                1   \n",
       "\n",
       "         duration_cat_duration_bt_30_60m  duration_cat_duration_bt_60_120m  \\\n",
       "11293                                  0                                 0   \n",
       "3241804                                1                                 0   \n",
       "2122208                                0                                 0   \n",
       "645015                                 0                                 0   \n",
       "1752107                                0                                 0   \n",
       "\n",
       "         duration_cat_duration_morethan_120m  \n",
       "11293                                      0  \n",
       "3241804                                    0  \n",
       "2122208                                    0  \n",
       "645015                                     0  \n",
       "1752107                                    0  \n",
       "\n",
       "[5 rows x 35 columns]"
      ]
     },
     "execution_count": 120,
     "metadata": {},
     "output_type": "execute_result"
    }
   ],
   "source": [
    "final.head()"
   ]
  },
  {
   "cell_type": "code",
   "execution_count": 121,
   "id": "b513b573",
   "metadata": {},
   "outputs": [],
   "source": [
    "from sklearn.ensemble import RandomForestRegressor\n",
    "from sklearn.model_selection import GridSearchCV , train_test_split, RandomizedSearchCV"
   ]
  },
  {
   "cell_type": "code",
   "execution_count": 126,
   "id": "29665d6d",
   "metadata": {},
   "outputs": [],
   "source": [
    "y=final[\"total_amount\"]\n",
    "x=final.drop(columns=[\"total_amount\", \"trip_distance\"])"
   ]
  },
  {
   "cell_type": "code",
   "execution_count": 127,
   "id": "379ce4bb",
   "metadata": {},
   "outputs": [],
   "source": [
    "x_train, x_test, y_train, y_test=train_test_split(x,y, test_size=.3, random_state=0)"
   ]
  },
  {
   "cell_type": "code",
   "execution_count": 128,
   "id": "c0cb73c6",
   "metadata": {},
   "outputs": [
    {
     "data": {
      "text/plain": [
       "RandomForestRegressor()"
      ]
     },
     "execution_count": 128,
     "metadata": {},
     "output_type": "execute_result"
    }
   ],
   "source": [
    "rfr=RandomForestRegressor()\n",
    "rfr.fit(x_train, y_train)"
   ]
  },
  {
   "cell_type": "code",
   "execution_count": 129,
   "id": "a8f38632",
   "metadata": {},
   "outputs": [
    {
     "name": "stdout",
     "output_type": "stream",
     "text": [
      "Train_score 0.9952252567336173\n",
      "Test_score 0.9667026276802231\n"
     ]
    }
   ],
   "source": [
    "print(\"Train_score\", rfr.score(x_train, y_train))\n",
    "print(\"Test_score\", rfr.score(x_test, y_test))"
   ]
  },
  {
   "cell_type": "code",
   "execution_count": null,
   "id": "620ffcd8",
   "metadata": {},
   "outputs": [],
   "source": [
    "# criterion : {\"squared_error\", \"absolute_error\", \"poisson\"}\n",
    "# mae : absolute_error : L1 error\n",
    "# mse : squared_error : L2 error"
   ]
  },
  {
   "cell_type": "code",
   "execution_count": 131,
   "id": "b89f97e6",
   "metadata": {},
   "outputs": [
    {
     "name": "stdout",
     "output_type": "stream",
     "text": [
      "Help on RandomForestRegressor in module sklearn.ensemble._forest object:\n",
      "\n",
      "class RandomForestRegressor(ForestRegressor)\n",
      " |  RandomForestRegressor(n_estimators=100, *, criterion='squared_error', max_depth=None, min_samples_split=2, min_samples_leaf=1, min_weight_fraction_leaf=0.0, max_features='auto', max_leaf_nodes=None, min_impurity_decrease=0.0, bootstrap=True, oob_score=False, n_jobs=None, random_state=None, verbose=0, warm_start=False, ccp_alpha=0.0, max_samples=None)\n",
      " |  \n",
      " |  A random forest regressor.\n",
      " |  \n",
      " |  A random forest is a meta estimator that fits a number of classifying\n",
      " |  decision trees on various sub-samples of the dataset and uses averaging\n",
      " |  to improve the predictive accuracy and control over-fitting.\n",
      " |  The sub-sample size is controlled with the `max_samples` parameter if\n",
      " |  `bootstrap=True` (default), otherwise the whole dataset is used to build\n",
      " |  each tree.\n",
      " |  \n",
      " |  Read more in the :ref:`User Guide <forest>`.\n",
      " |  \n",
      " |  Parameters\n",
      " |  ----------\n",
      " |  n_estimators : int, default=100\n",
      " |      The number of trees in the forest.\n",
      " |  \n",
      " |      .. versionchanged:: 0.22\n",
      " |         The default value of ``n_estimators`` changed from 10 to 100\n",
      " |         in 0.22.\n",
      " |  \n",
      " |  criterion : {\"squared_error\", \"absolute_error\", \"poisson\"},             default=\"squared_error\"\n",
      " |      The function to measure the quality of a split. Supported criteria\n",
      " |      are \"squared_error\" for the mean squared error, which is equal to\n",
      " |      variance reduction as feature selection criterion, \"absolute_error\"\n",
      " |      for the mean absolute error, and \"poisson\" which uses reduction in\n",
      " |      Poisson deviance to find splits.\n",
      " |      Training using \"absolute_error\" is significantly slower\n",
      " |      than when using \"squared_error\".\n",
      " |  \n",
      " |      .. versionadded:: 0.18\n",
      " |         Mean Absolute Error (MAE) criterion.\n",
      " |  \n",
      " |      .. versionadded:: 1.0\n",
      " |         Poisson criterion.\n",
      " |  \n",
      " |      .. deprecated:: 1.0\n",
      " |          Criterion \"mse\" was deprecated in v1.0 and will be removed in\n",
      " |          version 1.2. Use `criterion=\"squared_error\"` which is equivalent.\n",
      " |  \n",
      " |      .. deprecated:: 1.0\n",
      " |          Criterion \"mae\" was deprecated in v1.0 and will be removed in\n",
      " |          version 1.2. Use `criterion=\"absolute_error\"` which is equivalent.\n",
      " |  \n",
      " |  max_depth : int, default=None\n",
      " |      The maximum depth of the tree. If None, then nodes are expanded until\n",
      " |      all leaves are pure or until all leaves contain less than\n",
      " |      min_samples_split samples.\n",
      " |  \n",
      " |  min_samples_split : int or float, default=2\n",
      " |      The minimum number of samples required to split an internal node:\n",
      " |  \n",
      " |      - If int, then consider `min_samples_split` as the minimum number.\n",
      " |      - If float, then `min_samples_split` is a fraction and\n",
      " |        `ceil(min_samples_split * n_samples)` are the minimum\n",
      " |        number of samples for each split.\n",
      " |  \n",
      " |      .. versionchanged:: 0.18\n",
      " |         Added float values for fractions.\n",
      " |  \n",
      " |  min_samples_leaf : int or float, default=1\n",
      " |      The minimum number of samples required to be at a leaf node.\n",
      " |      A split point at any depth will only be considered if it leaves at\n",
      " |      least ``min_samples_leaf`` training samples in each of the left and\n",
      " |      right branches.  This may have the effect of smoothing the model,\n",
      " |      especially in regression.\n",
      " |  \n",
      " |      - If int, then consider `min_samples_leaf` as the minimum number.\n",
      " |      - If float, then `min_samples_leaf` is a fraction and\n",
      " |        `ceil(min_samples_leaf * n_samples)` are the minimum\n",
      " |        number of samples for each node.\n",
      " |  \n",
      " |      .. versionchanged:: 0.18\n",
      " |         Added float values for fractions.\n",
      " |  \n",
      " |  min_weight_fraction_leaf : float, default=0.0\n",
      " |      The minimum weighted fraction of the sum total of weights (of all\n",
      " |      the input samples) required to be at a leaf node. Samples have\n",
      " |      equal weight when sample_weight is not provided.\n",
      " |  \n",
      " |  max_features : {\"auto\", \"sqrt\", \"log2\"}, int or float, default=\"auto\"\n",
      " |      The number of features to consider when looking for the best split:\n",
      " |  \n",
      " |      - If int, then consider `max_features` features at each split.\n",
      " |      - If float, then `max_features` is a fraction and\n",
      " |        `round(max_features * n_features)` features are considered at each\n",
      " |        split.\n",
      " |      - If \"auto\", then `max_features=n_features`.\n",
      " |      - If \"sqrt\", then `max_features=sqrt(n_features)`.\n",
      " |      - If \"log2\", then `max_features=log2(n_features)`.\n",
      " |      - If None, then `max_features=n_features`.\n",
      " |  \n",
      " |      Note: the search for a split does not stop until at least one\n",
      " |      valid partition of the node samples is found, even if it requires to\n",
      " |      effectively inspect more than ``max_features`` features.\n",
      " |  \n",
      " |  max_leaf_nodes : int, default=None\n",
      " |      Grow trees with ``max_leaf_nodes`` in best-first fashion.\n",
      " |      Best nodes are defined as relative reduction in impurity.\n",
      " |      If None then unlimited number of leaf nodes.\n",
      " |  \n",
      " |  min_impurity_decrease : float, default=0.0\n",
      " |      A node will be split if this split induces a decrease of the impurity\n",
      " |      greater than or equal to this value.\n",
      " |  \n",
      " |      The weighted impurity decrease equation is the following::\n",
      " |  \n",
      " |          N_t / N * (impurity - N_t_R / N_t * right_impurity\n",
      " |                              - N_t_L / N_t * left_impurity)\n",
      " |  \n",
      " |      where ``N`` is the total number of samples, ``N_t`` is the number of\n",
      " |      samples at the current node, ``N_t_L`` is the number of samples in the\n",
      " |      left child, and ``N_t_R`` is the number of samples in the right child.\n",
      " |  \n",
      " |      ``N``, ``N_t``, ``N_t_R`` and ``N_t_L`` all refer to the weighted sum,\n",
      " |      if ``sample_weight`` is passed.\n",
      " |  \n",
      " |      .. versionadded:: 0.19\n",
      " |  \n",
      " |  bootstrap : bool, default=True\n",
      " |      Whether bootstrap samples are used when building trees. If False, the\n",
      " |      whole dataset is used to build each tree.\n",
      " |  \n",
      " |  oob_score : bool, default=False\n",
      " |      Whether to use out-of-bag samples to estimate the generalization score.\n",
      " |      Only available if bootstrap=True.\n",
      " |  \n",
      " |  n_jobs : int, default=None\n",
      " |      The number of jobs to run in parallel. :meth:`fit`, :meth:`predict`,\n",
      " |      :meth:`decision_path` and :meth:`apply` are all parallelized over the\n",
      " |      trees. ``None`` means 1 unless in a :obj:`joblib.parallel_backend`\n",
      " |      context. ``-1`` means using all processors. See :term:`Glossary\n",
      " |      <n_jobs>` for more details.\n",
      " |  \n",
      " |  random_state : int, RandomState instance or None, default=None\n",
      " |      Controls both the randomness of the bootstrapping of the samples used\n",
      " |      when building trees (if ``bootstrap=True``) and the sampling of the\n",
      " |      features to consider when looking for the best split at each node\n",
      " |      (if ``max_features < n_features``).\n",
      " |      See :term:`Glossary <random_state>` for details.\n",
      " |  \n",
      " |  verbose : int, default=0\n",
      " |      Controls the verbosity when fitting and predicting.\n",
      " |  \n",
      " |  warm_start : bool, default=False\n",
      " |      When set to ``True``, reuse the solution of the previous call to fit\n",
      " |      and add more estimators to the ensemble, otherwise, just fit a whole\n",
      " |      new forest. See :term:`the Glossary <warm_start>`.\n",
      " |  \n",
      " |  ccp_alpha : non-negative float, default=0.0\n",
      " |      Complexity parameter used for Minimal Cost-Complexity Pruning. The\n",
      " |      subtree with the largest cost complexity that is smaller than\n",
      " |      ``ccp_alpha`` will be chosen. By default, no pruning is performed. See\n",
      " |      :ref:`minimal_cost_complexity_pruning` for details.\n",
      " |  \n",
      " |      .. versionadded:: 0.22\n",
      " |  \n",
      " |  max_samples : int or float, default=None\n",
      " |      If bootstrap is True, the number of samples to draw from X\n",
      " |      to train each base estimator.\n",
      " |  \n",
      " |      - If None (default), then draw `X.shape[0]` samples.\n",
      " |      - If int, then draw `max_samples` samples.\n",
      " |      - If float, then draw `max_samples * X.shape[0]` samples. Thus,\n",
      " |        `max_samples` should be in the interval `(0.0, 1.0]`.\n",
      " |  \n",
      " |      .. versionadded:: 0.22\n",
      " |  \n",
      " |  Attributes\n",
      " |  ----------\n",
      " |  base_estimator_ : DecisionTreeRegressor\n",
      " |      The child estimator template used to create the collection of fitted\n",
      " |      sub-estimators.\n",
      " |  \n",
      " |  estimators_ : list of DecisionTreeRegressor\n",
      " |      The collection of fitted sub-estimators.\n",
      " |  \n",
      " |  feature_importances_ : ndarray of shape (n_features,)\n",
      " |      The impurity-based feature importances.\n",
      " |      The higher, the more important the feature.\n",
      " |      The importance of a feature is computed as the (normalized)\n",
      " |      total reduction of the criterion brought by that feature.  It is also\n",
      " |      known as the Gini importance.\n",
      " |  \n",
      " |      Warning: impurity-based feature importances can be misleading for\n",
      " |      high cardinality features (many unique values). See\n",
      " |      :func:`sklearn.inspection.permutation_importance` as an alternative.\n",
      " |  \n",
      " |  n_features_ : int\n",
      " |      The number of features when ``fit`` is performed.\n",
      " |  \n",
      " |      .. deprecated:: 1.0\n",
      " |          Attribute `n_features_` was deprecated in version 1.0 and will be\n",
      " |          removed in 1.2. Use `n_features_in_` instead.\n",
      " |  \n",
      " |  n_features_in_ : int\n",
      " |      Number of features seen during :term:`fit`.\n",
      " |  \n",
      " |      .. versionadded:: 0.24\n",
      " |  \n",
      " |  feature_names_in_ : ndarray of shape (`n_features_in_`,)\n",
      " |      Names of features seen during :term:`fit`. Defined only when `X`\n",
      " |      has feature names that are all strings.\n",
      " |  \n",
      " |      .. versionadded:: 1.0\n",
      " |  \n",
      " |  n_outputs_ : int\n",
      " |      The number of outputs when ``fit`` is performed.\n",
      " |  \n",
      " |  oob_score_ : float\n",
      " |      Score of the training dataset obtained using an out-of-bag estimate.\n",
      " |      This attribute exists only when ``oob_score`` is True.\n",
      " |  \n",
      " |  oob_prediction_ : ndarray of shape (n_samples,) or (n_samples, n_outputs)\n",
      " |      Prediction computed with out-of-bag estimate on the training set.\n",
      " |      This attribute exists only when ``oob_score`` is True.\n",
      " |  \n",
      " |  See Also\n",
      " |  --------\n",
      " |  sklearn.tree.DecisionTreeRegressor : A decision tree regressor.\n",
      " |  sklearn.ensemble.ExtraTreesRegressor : Ensemble of extremely randomized\n",
      " |      tree regressors.\n",
      " |  \n",
      " |  Notes\n",
      " |  -----\n",
      " |  The default values for the parameters controlling the size of the trees\n",
      " |  (e.g. ``max_depth``, ``min_samples_leaf``, etc.) lead to fully grown and\n",
      " |  unpruned trees which can potentially be very large on some data sets. To\n",
      " |  reduce memory consumption, the complexity and size of the trees should be\n",
      " |  controlled by setting those parameter values.\n",
      " |  \n",
      " |  The features are always randomly permuted at each split. Therefore,\n",
      " |  the best found split may vary, even with the same training data,\n",
      " |  ``max_features=n_features`` and ``bootstrap=False``, if the improvement\n",
      " |  of the criterion is identical for several splits enumerated during the\n",
      " |  search of the best split. To obtain a deterministic behaviour during\n",
      " |  fitting, ``random_state`` has to be fixed.\n",
      " |  \n",
      " |  The default value ``max_features=\"auto\"`` uses ``n_features``\n",
      " |  rather than ``n_features / 3``. The latter was originally suggested in\n",
      " |  [1], whereas the former was more recently justified empirically in [2].\n",
      " |  \n",
      " |  References\n",
      " |  ----------\n",
      " |  .. [1] L. Breiman, \"Random Forests\", Machine Learning, 45(1), 5-32, 2001.\n",
      " |  \n",
      " |  .. [2] P. Geurts, D. Ernst., and L. Wehenkel, \"Extremely randomized\n",
      " |         trees\", Machine Learning, 63(1), 3-42, 2006.\n",
      " |  \n",
      " |  Examples\n",
      " |  --------\n",
      " |  >>> from sklearn.ensemble import RandomForestRegressor\n",
      " |  >>> from sklearn.datasets import make_regression\n",
      " |  >>> X, y = make_regression(n_features=4, n_informative=2,\n",
      " |  ...                        random_state=0, shuffle=False)\n",
      " |  >>> regr = RandomForestRegressor(max_depth=2, random_state=0)\n",
      " |  >>> regr.fit(X, y)\n",
      " |  RandomForestRegressor(...)\n",
      " |  >>> print(regr.predict([[0, 0, 0, 0]]))\n",
      " |  [-8.32987858]\n",
      " |  \n",
      " |  Method resolution order:\n",
      " |      RandomForestRegressor\n",
      " |      ForestRegressor\n",
      " |      sklearn.base.RegressorMixin\n",
      " |      BaseForest\n",
      " |      sklearn.base.MultiOutputMixin\n",
      " |      sklearn.ensemble._base.BaseEnsemble\n",
      " |      sklearn.base.MetaEstimatorMixin\n",
      " |      sklearn.base.BaseEstimator\n",
      " |      builtins.object\n",
      " |  \n",
      " |  Methods defined here:\n",
      " |  \n",
      " |  __init__(self, n_estimators=100, *, criterion='squared_error', max_depth=None, min_samples_split=2, min_samples_leaf=1, min_weight_fraction_leaf=0.0, max_features='auto', max_leaf_nodes=None, min_impurity_decrease=0.0, bootstrap=True, oob_score=False, n_jobs=None, random_state=None, verbose=0, warm_start=False, ccp_alpha=0.0, max_samples=None)\n",
      " |      Initialize self.  See help(type(self)) for accurate signature.\n",
      " |  \n",
      " |  ----------------------------------------------------------------------\n",
      " |  Data and other attributes defined here:\n",
      " |  \n",
      " |  __abstractmethods__ = frozenset()\n",
      " |  \n",
      " |  ----------------------------------------------------------------------\n",
      " |  Methods inherited from ForestRegressor:\n",
      " |  \n",
      " |  predict(self, X)\n",
      " |      Predict regression target for X.\n",
      " |      \n",
      " |      The predicted regression target of an input sample is computed as the\n",
      " |      mean predicted regression targets of the trees in the forest.\n",
      " |      \n",
      " |      Parameters\n",
      " |      ----------\n",
      " |      X : {array-like, sparse matrix} of shape (n_samples, n_features)\n",
      " |          The input samples. Internally, its dtype will be converted to\n",
      " |          ``dtype=np.float32``. If a sparse matrix is provided, it will be\n",
      " |          converted into a sparse ``csr_matrix``.\n",
      " |      \n",
      " |      Returns\n",
      " |      -------\n",
      " |      y : ndarray of shape (n_samples,) or (n_samples, n_outputs)\n",
      " |          The predicted values.\n",
      " |  \n",
      " |  ----------------------------------------------------------------------\n",
      " |  Methods inherited from sklearn.base.RegressorMixin:\n",
      " |  \n",
      " |  score(self, X, y, sample_weight=None)\n",
      " |      Return the coefficient of determination of the prediction.\n",
      " |      \n",
      " |      The coefficient of determination :math:`R^2` is defined as\n",
      " |      :math:`(1 - \\frac{u}{v})`, where :math:`u` is the residual\n",
      " |      sum of squares ``((y_true - y_pred)** 2).sum()`` and :math:`v`\n",
      " |      is the total sum of squares ``((y_true - y_true.mean()) ** 2).sum()``.\n",
      " |      The best possible score is 1.0 and it can be negative (because the\n",
      " |      model can be arbitrarily worse). A constant model that always predicts\n",
      " |      the expected value of `y`, disregarding the input features, would get\n",
      " |      a :math:`R^2` score of 0.0.\n",
      " |      \n",
      " |      Parameters\n",
      " |      ----------\n",
      " |      X : array-like of shape (n_samples, n_features)\n",
      " |          Test samples. For some estimators this may be a precomputed\n",
      " |          kernel matrix or a list of generic objects instead with shape\n",
      " |          ``(n_samples, n_samples_fitted)``, where ``n_samples_fitted``\n",
      " |          is the number of samples used in the fitting for the estimator.\n",
      " |      \n",
      " |      y : array-like of shape (n_samples,) or (n_samples, n_outputs)\n",
      " |          True values for `X`.\n",
      " |      \n",
      " |      sample_weight : array-like of shape (n_samples,), default=None\n",
      " |          Sample weights.\n",
      " |      \n",
      " |      Returns\n",
      " |      -------\n",
      " |      score : float\n",
      " |          :math:`R^2` of ``self.predict(X)`` wrt. `y`.\n",
      " |      \n",
      " |      Notes\n",
      " |      -----\n",
      " |      The :math:`R^2` score used when calling ``score`` on a regressor uses\n",
      " |      ``multioutput='uniform_average'`` from version 0.23 to keep consistent\n",
      " |      with default value of :func:`~sklearn.metrics.r2_score`.\n",
      " |      This influences the ``score`` method of all the multioutput\n",
      " |      regressors (except for\n",
      " |      :class:`~sklearn.multioutput.MultiOutputRegressor`).\n",
      " |  \n",
      " |  ----------------------------------------------------------------------\n",
      " |  Data descriptors inherited from sklearn.base.RegressorMixin:\n",
      " |  \n",
      " |  __dict__\n",
      " |      dictionary for instance variables (if defined)\n",
      " |  \n",
      " |  __weakref__\n",
      " |      list of weak references to the object (if defined)\n",
      " |  \n",
      " |  ----------------------------------------------------------------------\n",
      " |  Methods inherited from BaseForest:\n",
      " |  \n",
      " |  apply(self, X)\n",
      " |      Apply trees in the forest to X, return leaf indices.\n",
      " |      \n",
      " |      Parameters\n",
      " |      ----------\n",
      " |      X : {array-like, sparse matrix} of shape (n_samples, n_features)\n",
      " |          The input samples. Internally, its dtype will be converted to\n",
      " |          ``dtype=np.float32``. If a sparse matrix is provided, it will be\n",
      " |          converted into a sparse ``csr_matrix``.\n",
      " |      \n",
      " |      Returns\n",
      " |      -------\n",
      " |      X_leaves : ndarray of shape (n_samples, n_estimators)\n",
      " |          For each datapoint x in X and for each tree in the forest,\n",
      " |          return the index of the leaf x ends up in.\n",
      " |  \n",
      " |  decision_path(self, X)\n",
      " |      Return the decision path in the forest.\n",
      " |      \n",
      " |      .. versionadded:: 0.18\n",
      " |      \n",
      " |      Parameters\n",
      " |      ----------\n",
      " |      X : {array-like, sparse matrix} of shape (n_samples, n_features)\n",
      " |          The input samples. Internally, its dtype will be converted to\n",
      " |          ``dtype=np.float32``. If a sparse matrix is provided, it will be\n",
      " |          converted into a sparse ``csr_matrix``.\n",
      " |      \n",
      " |      Returns\n",
      " |      -------\n",
      " |      indicator : sparse matrix of shape (n_samples, n_nodes)\n",
      " |          Return a node indicator matrix where non zero elements indicates\n",
      " |          that the samples goes through the nodes. The matrix is of CSR\n",
      " |          format.\n",
      " |      \n",
      " |      n_nodes_ptr : ndarray of shape (n_estimators + 1,)\n",
      " |          The columns from indicator[n_nodes_ptr[i]:n_nodes_ptr[i+1]]\n",
      " |          gives the indicator value for the i-th estimator.\n",
      " |  \n",
      " |  fit(self, X, y, sample_weight=None)\n",
      " |      Build a forest of trees from the training set (X, y).\n",
      " |      \n",
      " |      Parameters\n",
      " |      ----------\n",
      " |      X : {array-like, sparse matrix} of shape (n_samples, n_features)\n",
      " |          The training input samples. Internally, its dtype will be converted\n",
      " |          to ``dtype=np.float32``. If a sparse matrix is provided, it will be\n",
      " |          converted into a sparse ``csc_matrix``.\n",
      " |      \n",
      " |      y : array-like of shape (n_samples,) or (n_samples, n_outputs)\n",
      " |          The target values (class labels in classification, real numbers in\n",
      " |          regression).\n",
      " |      \n",
      " |      sample_weight : array-like of shape (n_samples,), default=None\n",
      " |          Sample weights. If None, then samples are equally weighted. Splits\n",
      " |          that would create child nodes with net zero or negative weight are\n",
      " |          ignored while searching for a split in each node. In the case of\n",
      " |          classification, splits are also ignored if they would result in any\n",
      " |          single class carrying a negative weight in either child node.\n",
      " |      \n",
      " |      Returns\n",
      " |      -------\n",
      " |      self : object\n",
      " |          Fitted estimator.\n",
      " |  \n",
      " |  ----------------------------------------------------------------------\n",
      " |  Readonly properties inherited from BaseForest:\n",
      " |  \n",
      " |  feature_importances_\n",
      " |      The impurity-based feature importances.\n",
      " |      \n",
      " |      The higher, the more important the feature.\n",
      " |      The importance of a feature is computed as the (normalized)\n",
      " |      total reduction of the criterion brought by that feature.  It is also\n",
      " |      known as the Gini importance.\n",
      " |      \n",
      " |      Warning: impurity-based feature importances can be misleading for\n",
      " |      high cardinality features (many unique values). See\n",
      " |      :func:`sklearn.inspection.permutation_importance` as an alternative.\n",
      " |      \n",
      " |      Returns\n",
      " |      -------\n",
      " |      feature_importances_ : ndarray of shape (n_features,)\n",
      " |          The values of this array sum to 1, unless all trees are single node\n",
      " |          trees consisting of only the root node, in which case it will be an\n",
      " |          array of zeros.\n",
      " |  \n",
      " |  n_features_\n",
      " |      DEPRECATED: Attribute `n_features_` was deprecated in version 1.0 and will be removed in 1.2. Use `n_features_in_` instead.\n",
      " |      \n",
      " |      Number of features when fitting the estimator.\n",
      " |  \n",
      " |  ----------------------------------------------------------------------\n",
      " |  Methods inherited from sklearn.ensemble._base.BaseEnsemble:\n",
      " |  \n",
      " |  __getitem__(self, index)\n",
      " |      Return the index'th estimator in the ensemble.\n",
      " |  \n",
      " |  __iter__(self)\n",
      " |      Return iterator over estimators in the ensemble.\n",
      " |  \n",
      " |  __len__(self)\n",
      " |      Return the number of estimators in the ensemble.\n",
      " |  \n",
      " |  ----------------------------------------------------------------------\n",
      " |  Data and other attributes inherited from sklearn.ensemble._base.BaseEnsemble:\n",
      " |  \n",
      " |  __annotations__ = {'_required_parameters': typing.List[str]}\n",
      " |  \n",
      " |  ----------------------------------------------------------------------\n",
      " |  Methods inherited from sklearn.base.BaseEstimator:\n",
      " |  \n",
      " |  __getstate__(self)\n",
      " |  \n",
      " |  __repr__(self, N_CHAR_MAX=700)\n",
      " |      Return repr(self).\n",
      " |  \n",
      " |  __setstate__(self, state)\n",
      " |  \n",
      " |  get_params(self, deep=True)\n",
      " |      Get parameters for this estimator.\n",
      " |      \n",
      " |      Parameters\n",
      " |      ----------\n",
      " |      deep : bool, default=True\n",
      " |          If True, will return the parameters for this estimator and\n",
      " |          contained subobjects that are estimators.\n",
      " |      \n",
      " |      Returns\n",
      " |      -------\n",
      " |      params : dict\n",
      " |          Parameter names mapped to their values.\n",
      " |  \n",
      " |  set_params(self, **params)\n",
      " |      Set the parameters of this estimator.\n",
      " |      \n",
      " |      The method works on simple estimators as well as on nested objects\n",
      " |      (such as :class:`~sklearn.pipeline.Pipeline`). The latter have\n",
      " |      parameters of the form ``<component>__<parameter>`` so that it's\n",
      " |      possible to update each component of a nested object.\n",
      " |      \n",
      " |      Parameters\n",
      " |      ----------\n",
      " |      **params : dict\n",
      " |          Estimator parameters.\n",
      " |      \n",
      " |      Returns\n",
      " |      -------\n",
      " |      self : estimator instance\n",
      " |          Estimator instance.\n",
      "\n"
     ]
    }
   ],
   "source": [
    "help(rfr)"
   ]
  },
  {
   "cell_type": "code",
   "execution_count": null,
   "id": "0239707f",
   "metadata": {},
   "outputs": [],
   "source": []
  }
 ],
 "metadata": {
  "kernelspec": {
   "display_name": "Python 3 (ipykernel)",
   "language": "python",
   "name": "python3"
  },
  "language_info": {
   "codemirror_mode": {
    "name": "ipython",
    "version": 3
   },
   "file_extension": ".py",
   "mimetype": "text/x-python",
   "name": "python",
   "nbconvert_exporter": "python",
   "pygments_lexer": "ipython3",
   "version": "3.8.5"
  }
 },
 "nbformat": 4,
 "nbformat_minor": 5
}
